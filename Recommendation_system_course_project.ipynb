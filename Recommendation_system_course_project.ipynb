{
  "nbformat": 4,
  "nbformat_minor": 0,
  "metadata": {
    "colab": {
      "name": "Recommendation_system_course_project.ipynb",
      "provenance": [],
      "collapsed_sections": []
    },
    "kernelspec": {
      "name": "python3",
      "display_name": "Python 3"
    },
    "language_info": {
      "name": "python"
    },
    "widgets": {
      "application/vnd.jupyter.widget-state+json": {
        "e0e2a6510b6841e0a37e7deafd9da490": {
          "model_module": "@jupyter-widgets/controls",
          "model_name": "HBoxModel",
          "model_module_version": "1.5.0",
          "state": {
            "_view_name": "HBoxView",
            "_dom_classes": [],
            "_model_name": "HBoxModel",
            "_view_module": "@jupyter-widgets/controls",
            "_model_module_version": "1.5.0",
            "_view_count": null,
            "_view_module_version": "1.5.0",
            "box_style": "",
            "layout": "IPY_MODEL_d6747c2e679c4c998b49f88a0cc23f4a",
            "_model_module": "@jupyter-widgets/controls",
            "children": [
              "IPY_MODEL_16fd3b9290ae4cb681ac7479a1078d73",
              "IPY_MODEL_758034e7b2fc43fc81c341d8e0fbcfb4",
              "IPY_MODEL_6e17348ef6bf4d39a7a7fb2c0b788b1c"
            ]
          }
        },
        "d6747c2e679c4c998b49f88a0cc23f4a": {
          "model_module": "@jupyter-widgets/base",
          "model_name": "LayoutModel",
          "model_module_version": "1.2.0",
          "state": {
            "_view_name": "LayoutView",
            "grid_template_rows": null,
            "right": null,
            "justify_content": null,
            "_view_module": "@jupyter-widgets/base",
            "overflow": null,
            "_model_module_version": "1.2.0",
            "_view_count": null,
            "flex_flow": null,
            "width": null,
            "min_width": null,
            "border": null,
            "align_items": null,
            "bottom": null,
            "_model_module": "@jupyter-widgets/base",
            "top": null,
            "grid_column": null,
            "overflow_y": null,
            "overflow_x": null,
            "grid_auto_flow": null,
            "grid_area": null,
            "grid_template_columns": null,
            "flex": null,
            "_model_name": "LayoutModel",
            "justify_items": null,
            "grid_row": null,
            "max_height": null,
            "align_content": null,
            "visibility": null,
            "align_self": null,
            "height": null,
            "min_height": null,
            "padding": null,
            "grid_auto_rows": null,
            "grid_gap": null,
            "max_width": null,
            "order": null,
            "_view_module_version": "1.2.0",
            "grid_template_areas": null,
            "object_position": null,
            "object_fit": null,
            "grid_auto_columns": null,
            "margin": null,
            "display": null,
            "left": null
          }
        },
        "16fd3b9290ae4cb681ac7479a1078d73": {
          "model_module": "@jupyter-widgets/controls",
          "model_name": "HTMLModel",
          "model_module_version": "1.5.0",
          "state": {
            "_view_name": "HTMLView",
            "style": "IPY_MODEL_a867c49842f847a6a448e644c96b2608",
            "_dom_classes": [],
            "description": "",
            "_model_name": "HTMLModel",
            "placeholder": "​",
            "_view_module": "@jupyter-widgets/controls",
            "_model_module_version": "1.5.0",
            "value": "100%",
            "_view_count": null,
            "_view_module_version": "1.5.0",
            "description_tooltip": null,
            "_model_module": "@jupyter-widgets/controls",
            "layout": "IPY_MODEL_feebb9dea2dc432cb3a4db51ea29cec4"
          }
        },
        "758034e7b2fc43fc81c341d8e0fbcfb4": {
          "model_module": "@jupyter-widgets/controls",
          "model_name": "FloatProgressModel",
          "model_module_version": "1.5.0",
          "state": {
            "_view_name": "ProgressView",
            "style": "IPY_MODEL_e43e57934a37406e8385773e81214da6",
            "_dom_classes": [],
            "description": "",
            "_model_name": "FloatProgressModel",
            "bar_style": "success",
            "max": 86865,
            "_view_module": "@jupyter-widgets/controls",
            "_model_module_version": "1.5.0",
            "value": 86865,
            "_view_count": null,
            "_view_module_version": "1.5.0",
            "orientation": "horizontal",
            "min": 0,
            "description_tooltip": null,
            "_model_module": "@jupyter-widgets/controls",
            "layout": "IPY_MODEL_b738e6a49d2b469cb090beddffeb5bca"
          }
        },
        "6e17348ef6bf4d39a7a7fb2c0b788b1c": {
          "model_module": "@jupyter-widgets/controls",
          "model_name": "HTMLModel",
          "model_module_version": "1.5.0",
          "state": {
            "_view_name": "HTMLView",
            "style": "IPY_MODEL_20aa04c12806474bbb00b2bce44d117f",
            "_dom_classes": [],
            "description": "",
            "_model_name": "HTMLModel",
            "placeholder": "​",
            "_view_module": "@jupyter-widgets/controls",
            "_model_module_version": "1.5.0",
            "value": " 86865/86865 [00:10&lt;00:00, 4691.31it/s]",
            "_view_count": null,
            "_view_module_version": "1.5.0",
            "description_tooltip": null,
            "_model_module": "@jupyter-widgets/controls",
            "layout": "IPY_MODEL_cdbed749ccc84f1ca61b4a4aac2f4c0c"
          }
        },
        "a867c49842f847a6a448e644c96b2608": {
          "model_module": "@jupyter-widgets/controls",
          "model_name": "DescriptionStyleModel",
          "model_module_version": "1.5.0",
          "state": {
            "_view_name": "StyleView",
            "_model_name": "DescriptionStyleModel",
            "description_width": "",
            "_view_module": "@jupyter-widgets/base",
            "_model_module_version": "1.5.0",
            "_view_count": null,
            "_view_module_version": "1.2.0",
            "_model_module": "@jupyter-widgets/controls"
          }
        },
        "feebb9dea2dc432cb3a4db51ea29cec4": {
          "model_module": "@jupyter-widgets/base",
          "model_name": "LayoutModel",
          "model_module_version": "1.2.0",
          "state": {
            "_view_name": "LayoutView",
            "grid_template_rows": null,
            "right": null,
            "justify_content": null,
            "_view_module": "@jupyter-widgets/base",
            "overflow": null,
            "_model_module_version": "1.2.0",
            "_view_count": null,
            "flex_flow": null,
            "width": null,
            "min_width": null,
            "border": null,
            "align_items": null,
            "bottom": null,
            "_model_module": "@jupyter-widgets/base",
            "top": null,
            "grid_column": null,
            "overflow_y": null,
            "overflow_x": null,
            "grid_auto_flow": null,
            "grid_area": null,
            "grid_template_columns": null,
            "flex": null,
            "_model_name": "LayoutModel",
            "justify_items": null,
            "grid_row": null,
            "max_height": null,
            "align_content": null,
            "visibility": null,
            "align_self": null,
            "height": null,
            "min_height": null,
            "padding": null,
            "grid_auto_rows": null,
            "grid_gap": null,
            "max_width": null,
            "order": null,
            "_view_module_version": "1.2.0",
            "grid_template_areas": null,
            "object_position": null,
            "object_fit": null,
            "grid_auto_columns": null,
            "margin": null,
            "display": null,
            "left": null
          }
        },
        "e43e57934a37406e8385773e81214da6": {
          "model_module": "@jupyter-widgets/controls",
          "model_name": "ProgressStyleModel",
          "model_module_version": "1.5.0",
          "state": {
            "_view_name": "StyleView",
            "_model_name": "ProgressStyleModel",
            "description_width": "",
            "_view_module": "@jupyter-widgets/base",
            "_model_module_version": "1.5.0",
            "_view_count": null,
            "_view_module_version": "1.2.0",
            "bar_color": null,
            "_model_module": "@jupyter-widgets/controls"
          }
        },
        "b738e6a49d2b469cb090beddffeb5bca": {
          "model_module": "@jupyter-widgets/base",
          "model_name": "LayoutModel",
          "model_module_version": "1.2.0",
          "state": {
            "_view_name": "LayoutView",
            "grid_template_rows": null,
            "right": null,
            "justify_content": null,
            "_view_module": "@jupyter-widgets/base",
            "overflow": null,
            "_model_module_version": "1.2.0",
            "_view_count": null,
            "flex_flow": null,
            "width": null,
            "min_width": null,
            "border": null,
            "align_items": null,
            "bottom": null,
            "_model_module": "@jupyter-widgets/base",
            "top": null,
            "grid_column": null,
            "overflow_y": null,
            "overflow_x": null,
            "grid_auto_flow": null,
            "grid_area": null,
            "grid_template_columns": null,
            "flex": null,
            "_model_name": "LayoutModel",
            "justify_items": null,
            "grid_row": null,
            "max_height": null,
            "align_content": null,
            "visibility": null,
            "align_self": null,
            "height": null,
            "min_height": null,
            "padding": null,
            "grid_auto_rows": null,
            "grid_gap": null,
            "max_width": null,
            "order": null,
            "_view_module_version": "1.2.0",
            "grid_template_areas": null,
            "object_position": null,
            "object_fit": null,
            "grid_auto_columns": null,
            "margin": null,
            "display": null,
            "left": null
          }
        },
        "20aa04c12806474bbb00b2bce44d117f": {
          "model_module": "@jupyter-widgets/controls",
          "model_name": "DescriptionStyleModel",
          "model_module_version": "1.5.0",
          "state": {
            "_view_name": "StyleView",
            "_model_name": "DescriptionStyleModel",
            "description_width": "",
            "_view_module": "@jupyter-widgets/base",
            "_model_module_version": "1.5.0",
            "_view_count": null,
            "_view_module_version": "1.2.0",
            "_model_module": "@jupyter-widgets/controls"
          }
        },
        "cdbed749ccc84f1ca61b4a4aac2f4c0c": {
          "model_module": "@jupyter-widgets/base",
          "model_name": "LayoutModel",
          "model_module_version": "1.2.0",
          "state": {
            "_view_name": "LayoutView",
            "grid_template_rows": null,
            "right": null,
            "justify_content": null,
            "_view_module": "@jupyter-widgets/base",
            "overflow": null,
            "_model_module_version": "1.2.0",
            "_view_count": null,
            "flex_flow": null,
            "width": null,
            "min_width": null,
            "border": null,
            "align_items": null,
            "bottom": null,
            "_model_module": "@jupyter-widgets/base",
            "top": null,
            "grid_column": null,
            "overflow_y": null,
            "overflow_x": null,
            "grid_auto_flow": null,
            "grid_area": null,
            "grid_template_columns": null,
            "flex": null,
            "_model_name": "LayoutModel",
            "justify_items": null,
            "grid_row": null,
            "max_height": null,
            "align_content": null,
            "visibility": null,
            "align_self": null,
            "height": null,
            "min_height": null,
            "padding": null,
            "grid_auto_rows": null,
            "grid_gap": null,
            "max_width": null,
            "order": null,
            "_view_module_version": "1.2.0",
            "grid_template_areas": null,
            "object_position": null,
            "object_fit": null,
            "grid_auto_columns": null,
            "margin": null,
            "display": null,
            "left": null
          }
        },
        "5f1dcb54eef2490083d214402f58fa76": {
          "model_module": "@jupyter-widgets/controls",
          "model_name": "HBoxModel",
          "model_module_version": "1.5.0",
          "state": {
            "_view_name": "HBoxView",
            "_dom_classes": [],
            "_model_name": "HBoxModel",
            "_view_module": "@jupyter-widgets/controls",
            "_model_module_version": "1.5.0",
            "_view_count": null,
            "_view_module_version": "1.5.0",
            "box_style": "",
            "layout": "IPY_MODEL_81c25d497e9740cd87f871a8bd6aa17b",
            "_model_module": "@jupyter-widgets/controls",
            "children": [
              "IPY_MODEL_29efa822bb2c4bb6a73042cf8f94d7d3",
              "IPY_MODEL_56ebd72a6f6f4940987fdecaf31cf62e",
              "IPY_MODEL_09f51baeb3074b4aa14bec4b40f42e65"
            ]
          }
        },
        "81c25d497e9740cd87f871a8bd6aa17b": {
          "model_module": "@jupyter-widgets/base",
          "model_name": "LayoutModel",
          "model_module_version": "1.2.0",
          "state": {
            "_view_name": "LayoutView",
            "grid_template_rows": null,
            "right": null,
            "justify_content": null,
            "_view_module": "@jupyter-widgets/base",
            "overflow": null,
            "_model_module_version": "1.2.0",
            "_view_count": null,
            "flex_flow": null,
            "width": null,
            "min_width": null,
            "border": null,
            "align_items": null,
            "bottom": null,
            "_model_module": "@jupyter-widgets/base",
            "top": null,
            "grid_column": null,
            "overflow_y": null,
            "overflow_x": null,
            "grid_auto_flow": null,
            "grid_area": null,
            "grid_template_columns": null,
            "flex": null,
            "_model_name": "LayoutModel",
            "justify_items": null,
            "grid_row": null,
            "max_height": null,
            "align_content": null,
            "visibility": null,
            "align_self": null,
            "height": null,
            "min_height": null,
            "padding": null,
            "grid_auto_rows": null,
            "grid_gap": null,
            "max_width": null,
            "order": null,
            "_view_module_version": "1.2.0",
            "grid_template_areas": null,
            "object_position": null,
            "object_fit": null,
            "grid_auto_columns": null,
            "margin": null,
            "display": null,
            "left": null
          }
        },
        "29efa822bb2c4bb6a73042cf8f94d7d3": {
          "model_module": "@jupyter-widgets/controls",
          "model_name": "HTMLModel",
          "model_module_version": "1.5.0",
          "state": {
            "_view_name": "HTMLView",
            "style": "IPY_MODEL_28e70a7e68864f469369b31de03ea133",
            "_dom_classes": [],
            "description": "",
            "_model_name": "HTMLModel",
            "placeholder": "​",
            "_view_module": "@jupyter-widgets/controls",
            "_model_module_version": "1.5.0",
            "value": "100%",
            "_view_count": null,
            "_view_module_version": "1.5.0",
            "description_tooltip": null,
            "_model_module": "@jupyter-widgets/controls",
            "layout": "IPY_MODEL_84048e040d8246d4b804b96e3cb61211"
          }
        },
        "56ebd72a6f6f4940987fdecaf31cf62e": {
          "model_module": "@jupyter-widgets/controls",
          "model_name": "FloatProgressModel",
          "model_module_version": "1.5.0",
          "state": {
            "_view_name": "ProgressView",
            "style": "IPY_MODEL_784f27b121044c5a9135e5d1478382e4",
            "_dom_classes": [],
            "description": "",
            "_model_name": "FloatProgressModel",
            "bar_style": "success",
            "max": 89051,
            "_view_module": "@jupyter-widgets/controls",
            "_model_module_version": "1.5.0",
            "value": 89051,
            "_view_count": null,
            "_view_module_version": "1.5.0",
            "orientation": "horizontal",
            "min": 0,
            "description_tooltip": null,
            "_model_module": "@jupyter-widgets/controls",
            "layout": "IPY_MODEL_2422114623a94bd2801e87e1b2b6e292"
          }
        },
        "09f51baeb3074b4aa14bec4b40f42e65": {
          "model_module": "@jupyter-widgets/controls",
          "model_name": "HTMLModel",
          "model_module_version": "1.5.0",
          "state": {
            "_view_name": "HTMLView",
            "style": "IPY_MODEL_f816245a2fee4119a342e98ce2d1ec27",
            "_dom_classes": [],
            "description": "",
            "_model_name": "HTMLModel",
            "placeholder": "​",
            "_view_module": "@jupyter-widgets/controls",
            "_model_module_version": "1.5.0",
            "value": " 89051/89051 [00:11&lt;00:00, 4742.57it/s]",
            "_view_count": null,
            "_view_module_version": "1.5.0",
            "description_tooltip": null,
            "_model_module": "@jupyter-widgets/controls",
            "layout": "IPY_MODEL_bff691f3940349e490c641cca791a90b"
          }
        },
        "28e70a7e68864f469369b31de03ea133": {
          "model_module": "@jupyter-widgets/controls",
          "model_name": "DescriptionStyleModel",
          "model_module_version": "1.5.0",
          "state": {
            "_view_name": "StyleView",
            "_model_name": "DescriptionStyleModel",
            "description_width": "",
            "_view_module": "@jupyter-widgets/base",
            "_model_module_version": "1.5.0",
            "_view_count": null,
            "_view_module_version": "1.2.0",
            "_model_module": "@jupyter-widgets/controls"
          }
        },
        "84048e040d8246d4b804b96e3cb61211": {
          "model_module": "@jupyter-widgets/base",
          "model_name": "LayoutModel",
          "model_module_version": "1.2.0",
          "state": {
            "_view_name": "LayoutView",
            "grid_template_rows": null,
            "right": null,
            "justify_content": null,
            "_view_module": "@jupyter-widgets/base",
            "overflow": null,
            "_model_module_version": "1.2.0",
            "_view_count": null,
            "flex_flow": null,
            "width": null,
            "min_width": null,
            "border": null,
            "align_items": null,
            "bottom": null,
            "_model_module": "@jupyter-widgets/base",
            "top": null,
            "grid_column": null,
            "overflow_y": null,
            "overflow_x": null,
            "grid_auto_flow": null,
            "grid_area": null,
            "grid_template_columns": null,
            "flex": null,
            "_model_name": "LayoutModel",
            "justify_items": null,
            "grid_row": null,
            "max_height": null,
            "align_content": null,
            "visibility": null,
            "align_self": null,
            "height": null,
            "min_height": null,
            "padding": null,
            "grid_auto_rows": null,
            "grid_gap": null,
            "max_width": null,
            "order": null,
            "_view_module_version": "1.2.0",
            "grid_template_areas": null,
            "object_position": null,
            "object_fit": null,
            "grid_auto_columns": null,
            "margin": null,
            "display": null,
            "left": null
          }
        },
        "784f27b121044c5a9135e5d1478382e4": {
          "model_module": "@jupyter-widgets/controls",
          "model_name": "ProgressStyleModel",
          "model_module_version": "1.5.0",
          "state": {
            "_view_name": "StyleView",
            "_model_name": "ProgressStyleModel",
            "description_width": "",
            "_view_module": "@jupyter-widgets/base",
            "_model_module_version": "1.5.0",
            "_view_count": null,
            "_view_module_version": "1.2.0",
            "bar_color": null,
            "_model_module": "@jupyter-widgets/controls"
          }
        },
        "2422114623a94bd2801e87e1b2b6e292": {
          "model_module": "@jupyter-widgets/base",
          "model_name": "LayoutModel",
          "model_module_version": "1.2.0",
          "state": {
            "_view_name": "LayoutView",
            "grid_template_rows": null,
            "right": null,
            "justify_content": null,
            "_view_module": "@jupyter-widgets/base",
            "overflow": null,
            "_model_module_version": "1.2.0",
            "_view_count": null,
            "flex_flow": null,
            "width": null,
            "min_width": null,
            "border": null,
            "align_items": null,
            "bottom": null,
            "_model_module": "@jupyter-widgets/base",
            "top": null,
            "grid_column": null,
            "overflow_y": null,
            "overflow_x": null,
            "grid_auto_flow": null,
            "grid_area": null,
            "grid_template_columns": null,
            "flex": null,
            "_model_name": "LayoutModel",
            "justify_items": null,
            "grid_row": null,
            "max_height": null,
            "align_content": null,
            "visibility": null,
            "align_self": null,
            "height": null,
            "min_height": null,
            "padding": null,
            "grid_auto_rows": null,
            "grid_gap": null,
            "max_width": null,
            "order": null,
            "_view_module_version": "1.2.0",
            "grid_template_areas": null,
            "object_position": null,
            "object_fit": null,
            "grid_auto_columns": null,
            "margin": null,
            "display": null,
            "left": null
          }
        },
        "f816245a2fee4119a342e98ce2d1ec27": {
          "model_module": "@jupyter-widgets/controls",
          "model_name": "DescriptionStyleModel",
          "model_module_version": "1.5.0",
          "state": {
            "_view_name": "StyleView",
            "_model_name": "DescriptionStyleModel",
            "description_width": "",
            "_view_module": "@jupyter-widgets/base",
            "_model_module_version": "1.5.0",
            "_view_count": null,
            "_view_module_version": "1.2.0",
            "_model_module": "@jupyter-widgets/controls"
          }
        },
        "bff691f3940349e490c641cca791a90b": {
          "model_module": "@jupyter-widgets/base",
          "model_name": "LayoutModel",
          "model_module_version": "1.2.0",
          "state": {
            "_view_name": "LayoutView",
            "grid_template_rows": null,
            "right": null,
            "justify_content": null,
            "_view_module": "@jupyter-widgets/base",
            "overflow": null,
            "_model_module_version": "1.2.0",
            "_view_count": null,
            "flex_flow": null,
            "width": null,
            "min_width": null,
            "border": null,
            "align_items": null,
            "bottom": null,
            "_model_module": "@jupyter-widgets/base",
            "top": null,
            "grid_column": null,
            "overflow_y": null,
            "overflow_x": null,
            "grid_auto_flow": null,
            "grid_area": null,
            "grid_template_columns": null,
            "flex": null,
            "_model_name": "LayoutModel",
            "justify_items": null,
            "grid_row": null,
            "max_height": null,
            "align_content": null,
            "visibility": null,
            "align_self": null,
            "height": null,
            "min_height": null,
            "padding": null,
            "grid_auto_rows": null,
            "grid_gap": null,
            "max_width": null,
            "order": null,
            "_view_module_version": "1.2.0",
            "grid_template_areas": null,
            "object_position": null,
            "object_fit": null,
            "grid_auto_columns": null,
            "margin": null,
            "display": null,
            "left": null
          }
        }
      }
    }
  },
  "cells": [
    {
      "cell_type": "code",
      "metadata": {
        "colab": {
          "base_uri": "https://localhost:8080/"
        },
        "id": "DY56FWE4gloN",
        "outputId": "0745d5ad-518b-4c9c-ebd2-b0ca7f048839"
      },
      "source": [
        "from google.colab import drive\n",
        "drive.mount('/content/drive')"
      ],
      "execution_count": 1,
      "outputs": [
        {
          "output_type": "stream",
          "name": "stdout",
          "text": [
            "Drive already mounted at /content/drive; to attempt to forcibly remount, call drive.mount(\"/content/drive\", force_remount=True).\n"
          ]
        }
      ]
    },
    {
      "cell_type": "markdown",
      "metadata": {
        "id": "uJyvxNbLg3CZ"
      },
      "source": [
        "###Курсовой проект по курсу \"Рекомендательные системы\"."
      ]
    },
    {
      "cell_type": "code",
      "metadata": {
        "colab": {
          "base_uri": "https://localhost:8080/"
        },
        "id": "fNXbvLO2vBSD",
        "outputId": "2bdef166-42e1-476a-e786-648536081c75"
      },
      "source": [
        "!pip3 install implicit"
      ],
      "execution_count": 2,
      "outputs": [
        {
          "output_type": "stream",
          "name": "stdout",
          "text": [
            "Requirement already satisfied: implicit in /usr/local/lib/python3.7/dist-packages (0.4.8)\n",
            "Requirement already satisfied: tqdm>=4.27 in /usr/local/lib/python3.7/dist-packages (from implicit) (4.62.3)\n",
            "Requirement already satisfied: scipy>=0.16 in /usr/local/lib/python3.7/dist-packages (from implicit) (1.4.1)\n",
            "Requirement already satisfied: numpy in /usr/local/lib/python3.7/dist-packages (from implicit) (1.19.5)\n"
          ]
        }
      ]
    },
    {
      "cell_type": "code",
      "metadata": {
        "id": "Z-heTc45g2qf"
      },
      "source": [
        "import pandas as pd\n",
        "import numpy as np\n",
        "import matplotlib.pyplot as plt\n",
        "%matplotlib inline\n",
        "\n",
        "# Для работы с матрицами\n",
        "from scipy.sparse import csr_matrix, coo_matrix\n",
        "\n",
        "from implicit.als import AlternatingLeastSquares\n",
        "from implicit.nearest_neighbours import bm25_weight, tfidf_weight\n",
        "\n",
        "# Детерминированные алгоритмы\n",
        "from implicit.nearest_neighbours import ItemItemRecommender, CosineRecommender, TFIDFRecommender, BM25Recommender\n",
        "\n",
        "\n",
        "# Метрики\n",
        "from implicit.evaluation import train_test_split\n",
        "from implicit.evaluation import precision_at_k, mean_average_precision_at_k, AUC_at_k, ndcg_at_k\n",
        "\n",
        "import os, sys\n",
        "module_path = os.path.abspath(os.path.join(os.pardir))\n",
        "if module_path not in sys.path:\n",
        "    sys.path.append(module_path)\n",
        "\n",
        "# Модель второго уровня\n",
        "from lightgbm import LGBMClassifier\n",
        "\n",
        "from content.drive.MyDrive.src.metrics import precision_at_k, recall_at_k\n",
        "from content.drive.MyDrive.src.utils import prefilter_items\n",
        "from content.drive.MyDrive.src.recommenders import MainRecommender"
      ],
      "execution_count": 3,
      "outputs": []
    },
    {
      "cell_type": "markdown",
      "metadata": {
        "id": "GxiUbS1RyoSI"
      },
      "source": [
        "Загрузим данные"
      ]
    },
    {
      "cell_type": "code",
      "metadata": {
        "colab": {
          "base_uri": "https://localhost:8080/",
          "height": 112
        },
        "id": "41BgUR-CrOhU",
        "outputId": "ffaaf07f-1cad-4b2c-e9b0-a8937859cead"
      },
      "source": [
        "data = pd.read_csv('/content/drive/MyDrive/retail_train.csv')\n",
        "data.head(2)"
      ],
      "execution_count": 4,
      "outputs": [
        {
          "output_type": "execute_result",
          "data": {
            "text/html": [
              "<div>\n",
              "<style scoped>\n",
              "    .dataframe tbody tr th:only-of-type {\n",
              "        vertical-align: middle;\n",
              "    }\n",
              "\n",
              "    .dataframe tbody tr th {\n",
              "        vertical-align: top;\n",
              "    }\n",
              "\n",
              "    .dataframe thead th {\n",
              "        text-align: right;\n",
              "    }\n",
              "</style>\n",
              "<table border=\"1\" class=\"dataframe\">\n",
              "  <thead>\n",
              "    <tr style=\"text-align: right;\">\n",
              "      <th></th>\n",
              "      <th>user_id</th>\n",
              "      <th>basket_id</th>\n",
              "      <th>day</th>\n",
              "      <th>item_id</th>\n",
              "      <th>quantity</th>\n",
              "      <th>sales_value</th>\n",
              "      <th>store_id</th>\n",
              "      <th>retail_disc</th>\n",
              "      <th>trans_time</th>\n",
              "      <th>week_no</th>\n",
              "      <th>coupon_disc</th>\n",
              "      <th>coupon_match_disc</th>\n",
              "    </tr>\n",
              "  </thead>\n",
              "  <tbody>\n",
              "    <tr>\n",
              "      <th>0</th>\n",
              "      <td>2375</td>\n",
              "      <td>26984851472</td>\n",
              "      <td>1</td>\n",
              "      <td>1004906</td>\n",
              "      <td>1</td>\n",
              "      <td>1.39</td>\n",
              "      <td>364</td>\n",
              "      <td>-0.6</td>\n",
              "      <td>1631</td>\n",
              "      <td>1</td>\n",
              "      <td>0.0</td>\n",
              "      <td>0.0</td>\n",
              "    </tr>\n",
              "    <tr>\n",
              "      <th>1</th>\n",
              "      <td>2375</td>\n",
              "      <td>26984851472</td>\n",
              "      <td>1</td>\n",
              "      <td>1033142</td>\n",
              "      <td>1</td>\n",
              "      <td>0.82</td>\n",
              "      <td>364</td>\n",
              "      <td>0.0</td>\n",
              "      <td>1631</td>\n",
              "      <td>1</td>\n",
              "      <td>0.0</td>\n",
              "      <td>0.0</td>\n",
              "    </tr>\n",
              "  </tbody>\n",
              "</table>\n",
              "</div>"
            ],
            "text/plain": [
              "   user_id    basket_id  day  ...  week_no  coupon_disc  coupon_match_disc\n",
              "0     2375  26984851472    1  ...        1          0.0                0.0\n",
              "1     2375  26984851472    1  ...        1          0.0                0.0\n",
              "\n",
              "[2 rows x 12 columns]"
            ]
          },
          "metadata": {},
          "execution_count": 4
        }
      ]
    },
    {
      "cell_type": "markdown",
      "metadata": {
        "id": "-P-WPEgZyOEC"
      },
      "source": [
        "Посмотрим на пользователей"
      ]
    },
    {
      "cell_type": "code",
      "metadata": {
        "colab": {
          "base_uri": "https://localhost:8080/"
        },
        "id": "Crx3X59dyTYC",
        "outputId": "ef99b984-7b9a-48eb-d052-d40f50e242d7"
      },
      "source": [
        "np.max(data['user_id'])"
      ],
      "execution_count": 5,
      "outputs": [
        {
          "output_type": "execute_result",
          "data": {
            "text/plain": [
              "2500"
            ]
          },
          "metadata": {},
          "execution_count": 5
        }
      ]
    },
    {
      "cell_type": "code",
      "metadata": {
        "colab": {
          "base_uri": "https://localhost:8080/"
        },
        "id": "w2jOWmv5rOkl",
        "outputId": "417958b8-848b-4e40-b91b-f559388ac77e"
      },
      "source": [
        "data['user_id'].value_counts()"
      ],
      "execution_count": 6,
      "outputs": [
        {
          "output_type": "execute_result",
          "data": {
            "text/plain": [
              "2459    6544\n",
              "718     6490\n",
              "1111    6306\n",
              "1609    6192\n",
              "1453    5915\n",
              "        ... \n",
              "1876       5\n",
              "1897       5\n",
              "494        4\n",
              "2444       3\n",
              "379        1\n",
              "Name: user_id, Length: 2499, dtype: int64"
            ]
          },
          "metadata": {},
          "execution_count": 6
        }
      ]
    },
    {
      "cell_type": "code",
      "metadata": {
        "colab": {
          "base_uri": "https://localhost:8080/"
        },
        "id": "AGwfRC2dyuV5",
        "outputId": "9713e7b6-397c-4e7d-9368-6b168e70c068"
      },
      "source": [
        "users = data['user_id'].unique()\n",
        "for i in range(1, 2501):\n",
        "  if i not in users:\n",
        "    print(i)"
      ],
      "execution_count": 7,
      "outputs": [
        {
          "output_type": "stream",
          "name": "stdout",
          "text": [
            "2325\n"
          ]
        }
      ]
    },
    {
      "cell_type": "markdown",
      "metadata": {
        "id": "zyQ0WRcwyrZ_"
      },
      "source": [
        "Пользователь 2325 не совершал покупок, так же часть пользователей совершали очень мало покупок."
      ]
    },
    {
      "cell_type": "code",
      "metadata": {
        "id": "2WqLetkoy6p3"
      },
      "source": [
        "item_features = pd.read_csv('/content/drive/MyDrive/product.csv')\n",
        "user_features = pd.read_csv('/content/drive/MyDrive/hh_demographic.csv')\n",
        "\n",
        "# column processing\n",
        "item_features.columns = [col.lower() for col in item_features.columns]\n",
        "user_features.columns = [col.lower() for col in user_features.columns]\n",
        "\n",
        "item_features.rename(columns={'product_id': 'item_id'}, inplace=True)\n",
        "user_features.rename(columns={'household_key': 'user_id'}, inplace=True)"
      ],
      "execution_count": 8,
      "outputs": []
    },
    {
      "cell_type": "markdown",
      "metadata": {
        "id": "0AjJRUZly7Ev"
      },
      "source": [
        "Выгрузим нужных юзеров"
      ]
    },
    {
      "cell_type": "code",
      "metadata": {
        "colab": {
          "base_uri": "https://localhost:8080/",
          "height": 424
        },
        "id": "KOzZc4B5F_fB",
        "outputId": "e4c00cb6-30e4-4213-d280-88f1479d6c52"
      },
      "source": [
        "userid_list = pd.read_csv('/content/drive/MyDrive/test_users.csv')\n",
        "userid_list"
      ],
      "execution_count": 9,
      "outputs": [
        {
          "output_type": "execute_result",
          "data": {
            "text/html": [
              "<div>\n",
              "<style scoped>\n",
              "    .dataframe tbody tr th:only-of-type {\n",
              "        vertical-align: middle;\n",
              "    }\n",
              "\n",
              "    .dataframe tbody tr th {\n",
              "        vertical-align: top;\n",
              "    }\n",
              "\n",
              "    .dataframe thead th {\n",
              "        text-align: right;\n",
              "    }\n",
              "</style>\n",
              "<table border=\"1\" class=\"dataframe\">\n",
              "  <thead>\n",
              "    <tr style=\"text-align: right;\">\n",
              "      <th></th>\n",
              "      <th>user_id</th>\n",
              "    </tr>\n",
              "  </thead>\n",
              "  <tbody>\n",
              "    <tr>\n",
              "      <th>0</th>\n",
              "      <td>1</td>\n",
              "    </tr>\n",
              "    <tr>\n",
              "      <th>1</th>\n",
              "      <td>2</td>\n",
              "    </tr>\n",
              "    <tr>\n",
              "      <th>2</th>\n",
              "      <td>3</td>\n",
              "    </tr>\n",
              "    <tr>\n",
              "      <th>3</th>\n",
              "      <td>6</td>\n",
              "    </tr>\n",
              "    <tr>\n",
              "      <th>4</th>\n",
              "      <td>7</td>\n",
              "    </tr>\n",
              "    <tr>\n",
              "      <th>...</th>\n",
              "      <td>...</td>\n",
              "    </tr>\n",
              "    <tr>\n",
              "      <th>1703</th>\n",
              "      <td>2494</td>\n",
              "    </tr>\n",
              "    <tr>\n",
              "      <th>1704</th>\n",
              "      <td>2496</td>\n",
              "    </tr>\n",
              "    <tr>\n",
              "      <th>1705</th>\n",
              "      <td>2498</td>\n",
              "    </tr>\n",
              "    <tr>\n",
              "      <th>1706</th>\n",
              "      <td>2499</td>\n",
              "    </tr>\n",
              "    <tr>\n",
              "      <th>1707</th>\n",
              "      <td>2500</td>\n",
              "    </tr>\n",
              "  </tbody>\n",
              "</table>\n",
              "<p>1708 rows × 1 columns</p>\n",
              "</div>"
            ],
            "text/plain": [
              "      user_id\n",
              "0           1\n",
              "1           2\n",
              "2           3\n",
              "3           6\n",
              "4           7\n",
              "...       ...\n",
              "1703     2494\n",
              "1704     2496\n",
              "1705     2498\n",
              "1706     2499\n",
              "1707     2500\n",
              "\n",
              "[1708 rows x 1 columns]"
            ]
          },
          "metadata": {},
          "execution_count": 9
        }
      ]
    },
    {
      "cell_type": "code",
      "metadata": {
        "id": "sW9iBLEuGZII"
      },
      "source": [
        "user_list = list(userid_list['user_id'])"
      ],
      "execution_count": 10,
      "outputs": []
    },
    {
      "cell_type": "markdown",
      "metadata": {
        "id": "lumL7fGtf6O1"
      },
      "source": [
        "###Предобработка данных"
      ]
    },
    {
      "cell_type": "code",
      "metadata": {
        "id": "-I0lqwz2f5dp"
      },
      "source": [
        "#№Возьмём топ 5000 товаров\n",
        "#take_n_popular = 5000\n",
        "\n",
        "#popularity = data.groupby('item_id')['quantity'].sum().reset_index()\n",
        "#popularity.rename(columns={'quantity': 'n_sold'}, inplace=True)\n",
        "\n",
        "#popularity.index = popularity.index.astype('int')\n",
        "#top = popularity.sort_values('n_sold', ascending=False).head(int(take_n_popular)).item_id.tolist()\n",
        "    \n",
        "# Заведем фиктивный item_id (если юзер покупал товары из топ-5000, то он \"купил\" такой товар)\n",
        "#data.loc[~data['item_id'].isin(top), 'item_id'] = 999999"
      ],
      "execution_count": 11,
      "outputs": []
    },
    {
      "cell_type": "markdown",
      "metadata": {
        "id": "J4U9wa0pelY5"
      },
      "source": [
        "###Определение модели."
      ]
    },
    {
      "cell_type": "code",
      "metadata": {
        "colab": {
          "base_uri": "https://localhost:8080/",
          "height": 112
        },
        "id": "LMWnQoLSejoU",
        "outputId": "a29a90b8-9e8e-44a4-81b8-e016ab24ca56"
      },
      "source": [
        "#Разабьем данные на обучающие и тестовые.\n",
        "test_size_weeks = 3\n",
        "\n",
        "data_train = data[data['week_no'] < data['week_no'].max() - test_size_weeks]\n",
        "data_test = data[data['week_no'] >= data['week_no'].max() - test_size_weeks]\n",
        "\n",
        "data_train.head(2)"
      ],
      "execution_count": 12,
      "outputs": [
        {
          "output_type": "execute_result",
          "data": {
            "text/html": [
              "<div>\n",
              "<style scoped>\n",
              "    .dataframe tbody tr th:only-of-type {\n",
              "        vertical-align: middle;\n",
              "    }\n",
              "\n",
              "    .dataframe tbody tr th {\n",
              "        vertical-align: top;\n",
              "    }\n",
              "\n",
              "    .dataframe thead th {\n",
              "        text-align: right;\n",
              "    }\n",
              "</style>\n",
              "<table border=\"1\" class=\"dataframe\">\n",
              "  <thead>\n",
              "    <tr style=\"text-align: right;\">\n",
              "      <th></th>\n",
              "      <th>user_id</th>\n",
              "      <th>basket_id</th>\n",
              "      <th>day</th>\n",
              "      <th>item_id</th>\n",
              "      <th>quantity</th>\n",
              "      <th>sales_value</th>\n",
              "      <th>store_id</th>\n",
              "      <th>retail_disc</th>\n",
              "      <th>trans_time</th>\n",
              "      <th>week_no</th>\n",
              "      <th>coupon_disc</th>\n",
              "      <th>coupon_match_disc</th>\n",
              "    </tr>\n",
              "  </thead>\n",
              "  <tbody>\n",
              "    <tr>\n",
              "      <th>0</th>\n",
              "      <td>2375</td>\n",
              "      <td>26984851472</td>\n",
              "      <td>1</td>\n",
              "      <td>1004906</td>\n",
              "      <td>1</td>\n",
              "      <td>1.39</td>\n",
              "      <td>364</td>\n",
              "      <td>-0.6</td>\n",
              "      <td>1631</td>\n",
              "      <td>1</td>\n",
              "      <td>0.0</td>\n",
              "      <td>0.0</td>\n",
              "    </tr>\n",
              "    <tr>\n",
              "      <th>1</th>\n",
              "      <td>2375</td>\n",
              "      <td>26984851472</td>\n",
              "      <td>1</td>\n",
              "      <td>1033142</td>\n",
              "      <td>1</td>\n",
              "      <td>0.82</td>\n",
              "      <td>364</td>\n",
              "      <td>0.0</td>\n",
              "      <td>1631</td>\n",
              "      <td>1</td>\n",
              "      <td>0.0</td>\n",
              "      <td>0.0</td>\n",
              "    </tr>\n",
              "  </tbody>\n",
              "</table>\n",
              "</div>"
            ],
            "text/plain": [
              "   user_id    basket_id  day  ...  week_no  coupon_disc  coupon_match_disc\n",
              "0     2375  26984851472    1  ...        1          0.0                0.0\n",
              "1     2375  26984851472    1  ...        1          0.0                0.0\n",
              "\n",
              "[2 rows x 12 columns]"
            ]
          },
          "metadata": {},
          "execution_count": 12
        }
      ]
    },
    {
      "cell_type": "code",
      "metadata": {
        "id": "d209t4KGheEQ"
      },
      "source": [
        "user_item_matrix = pd.pivot_table(data_train, \n",
        "                                  index='user_id', columns='item_id', \n",
        "                                  values='quantity', # Можно пробоват ьдругие варианты\n",
        "                                  aggfunc='count', \n",
        "                                  fill_value=0\n",
        "                                 )\n",
        "\n",
        "user_item_matrix = user_item_matrix.astype(float) # необходимый тип матрицы для implicit\n",
        "\n",
        "# переведем в формат saprse matrix\n",
        "sparse_user_item = csr_matrix(user_item_matrix).tocsr()"
      ],
      "execution_count": 13,
      "outputs": []
    },
    {
      "cell_type": "code",
      "metadata": {
        "id": "e7_qmC2siZuG"
      },
      "source": [
        "userids = user_item_matrix.index.values\n",
        "itemids = user_item_matrix.columns.values\n",
        "\n",
        "matrix_userids = np.arange(len(userids))\n",
        "matrix_itemids = np.arange(len(itemids))\n",
        "\n",
        "id_to_itemid = dict(zip(matrix_itemids, itemids))\n",
        "id_to_userid = dict(zip(matrix_userids, userids))\n",
        "\n",
        "itemid_to_id = dict(zip(itemids, matrix_itemids))\n",
        "userid_to_id = dict(zip(userids, matrix_userids))"
      ],
      "execution_count": 14,
      "outputs": []
    },
    {
      "cell_type": "code",
      "metadata": {
        "id": "obkH2Ftqej-6"
      },
      "source": [
        "data_test = data_test[data_test['item_id'].isin(data_train['item_id'].unique())]\n",
        "test_user_item_matrix = pd.pivot_table(data_test, \n",
        "                                  index='user_id', columns='item_id', \n",
        "                                  values='quantity', # Можно пробоват ьдругие варианты\n",
        "                                  aggfunc='count', \n",
        "                                  fill_value=0\n",
        "                                 )\n",
        "\n",
        "test_user_item_matrix = user_item_matrix.astype(float)"
      ],
      "execution_count": 15,
      "outputs": []
    },
    {
      "cell_type": "code",
      "metadata": {
        "colab": {
          "base_uri": "https://localhost:8080/",
          "height": 112
        },
        "id": "thzCkTeeqYib",
        "outputId": "00c55c6a-fa0a-4330-bbbc-7ab8932b02c0"
      },
      "source": [
        "test = data_test.groupby('user_id')['item_id'].unique().reset_index()\n",
        "test.columns=['user_id', 'actual']\n",
        "test.tail(2)"
      ],
      "execution_count": 16,
      "outputs": [
        {
          "output_type": "execute_result",
          "data": {
            "text/html": [
              "<div>\n",
              "<style scoped>\n",
              "    .dataframe tbody tr th:only-of-type {\n",
              "        vertical-align: middle;\n",
              "    }\n",
              "\n",
              "    .dataframe tbody tr th {\n",
              "        vertical-align: top;\n",
              "    }\n",
              "\n",
              "    .dataframe thead th {\n",
              "        text-align: right;\n",
              "    }\n",
              "</style>\n",
              "<table border=\"1\" class=\"dataframe\">\n",
              "  <thead>\n",
              "    <tr style=\"text-align: right;\">\n",
              "      <th></th>\n",
              "      <th>user_id</th>\n",
              "      <th>actual</th>\n",
              "    </tr>\n",
              "  </thead>\n",
              "  <tbody>\n",
              "    <tr>\n",
              "      <th>2039</th>\n",
              "      <td>2499</td>\n",
              "      <td>[867188, 877580, 902396, 914190, 951590, 95813...</td>\n",
              "    </tr>\n",
              "    <tr>\n",
              "      <th>2040</th>\n",
              "      <td>2500</td>\n",
              "      <td>[852182, 856345, 923746, 948670, 1018007, 1044...</td>\n",
              "    </tr>\n",
              "  </tbody>\n",
              "</table>\n",
              "</div>"
            ],
            "text/plain": [
              "      user_id                                             actual\n",
              "2039     2499  [867188, 877580, 902396, 914190, 951590, 95813...\n",
              "2040     2500  [852182, 856345, 923746, 948670, 1018007, 1044..."
            ]
          },
          "metadata": {},
          "execution_count": 16
        }
      ]
    },
    {
      "cell_type": "code",
      "metadata": {
        "colab": {
          "base_uri": "https://localhost:8080/",
          "height": 49,
          "referenced_widgets": [
            "e0e2a6510b6841e0a37e7deafd9da490",
            "d6747c2e679c4c998b49f88a0cc23f4a",
            "16fd3b9290ae4cb681ac7479a1078d73",
            "758034e7b2fc43fc81c341d8e0fbcfb4",
            "6e17348ef6bf4d39a7a7fb2c0b788b1c",
            "a867c49842f847a6a448e644c96b2608",
            "feebb9dea2dc432cb3a4db51ea29cec4",
            "e43e57934a37406e8385773e81214da6",
            "b738e6a49d2b469cb090beddffeb5bca",
            "20aa04c12806474bbb00b2bce44d117f",
            "cdbed749ccc84f1ca61b4a4aac2f4c0c"
          ]
        },
        "id": "GFW2oCy8kJOi",
        "outputId": "f764c974-71ea-4662-f28d-cf2007dac9a5"
      },
      "source": [
        "own = ItemItemRecommender(K=1, num_threads=4) # K - кол-во билжайших соседей\n",
        "\n",
        "own.fit(csr_matrix(user_item_matrix).T.tocsr(), \n",
        "          show_progress=True)"
      ],
      "execution_count": 17,
      "outputs": [
        {
          "output_type": "display_data",
          "data": {
            "application/vnd.jupyter.widget-view+json": {
              "model_id": "e0e2a6510b6841e0a37e7deafd9da490",
              "version_minor": 0,
              "version_major": 2
            },
            "text/plain": [
              "  0%|          | 0/86865 [00:00<?, ?it/s]"
            ]
          },
          "metadata": {}
        }
      ]
    },
    {
      "cell_type": "code",
      "metadata": {
        "id": "cMPupLxrmY2N"
      },
      "source": [
        "def get_recommendations(user, model, N=5):\n",
        "    res = [id_to_itemid[rec[0]] for rec in \n",
        "                    model.recommend(userid=userid_to_id[user], \n",
        "                                    user_items=sparse_user_item,   # на вход user-item matrix\n",
        "                                    N=N, \n",
        "                                    filter_already_liked_items=False, \n",
        "                                    filter_items=[999999], \n",
        "                                    recalculate_user=True)]\n",
        "    return res\n"
      ],
      "execution_count": 18,
      "outputs": []
    },
    {
      "cell_type": "code",
      "metadata": {
        "colab": {
          "base_uri": "https://localhost:8080/",
          "height": 112
        },
        "id": "DcM52e_nmbvm",
        "outputId": "30da03ca-487c-4a3d-e41e-3ed46055bac0"
      },
      "source": [
        "test['own_rec'] = test['user_id'].apply(lambda x: get_recommendations(x, model=own, N=5))\n",
        "test.tail(2)"
      ],
      "execution_count": 19,
      "outputs": [
        {
          "output_type": "execute_result",
          "data": {
            "text/html": [
              "<div>\n",
              "<style scoped>\n",
              "    .dataframe tbody tr th:only-of-type {\n",
              "        vertical-align: middle;\n",
              "    }\n",
              "\n",
              "    .dataframe tbody tr th {\n",
              "        vertical-align: top;\n",
              "    }\n",
              "\n",
              "    .dataframe thead th {\n",
              "        text-align: right;\n",
              "    }\n",
              "</style>\n",
              "<table border=\"1\" class=\"dataframe\">\n",
              "  <thead>\n",
              "    <tr style=\"text-align: right;\">\n",
              "      <th></th>\n",
              "      <th>user_id</th>\n",
              "      <th>actual</th>\n",
              "      <th>own_rec</th>\n",
              "    </tr>\n",
              "  </thead>\n",
              "  <tbody>\n",
              "    <tr>\n",
              "      <th>2039</th>\n",
              "      <td>2499</td>\n",
              "      <td>[867188, 877580, 902396, 914190, 951590, 95813...</td>\n",
              "      <td>[1082185, 6534178, 1070820, 1085604, 883404]</td>\n",
              "    </tr>\n",
              "    <tr>\n",
              "      <th>2040</th>\n",
              "      <td>2500</td>\n",
              "      <td>[852182, 856345, 923746, 948670, 1018007, 1044...</td>\n",
              "      <td>[1082185, 6534178, 995242, 1029743, 1126899]</td>\n",
              "    </tr>\n",
              "  </tbody>\n",
              "</table>\n",
              "</div>"
            ],
            "text/plain": [
              "      user_id  ...                                       own_rec\n",
              "2039     2499  ...  [1082185, 6534178, 1070820, 1085604, 883404]\n",
              "2040     2500  ...  [1082185, 6534178, 995242, 1029743, 1126899]\n",
              "\n",
              "[2 rows x 3 columns]"
            ]
          },
          "metadata": {},
          "execution_count": 19
        }
      ]
    },
    {
      "cell_type": "code",
      "metadata": {
        "id": "vq4unYLK6zyc"
      },
      "source": [
        "#recommender = MainRecommender(data_train)"
      ],
      "execution_count": 20,
      "outputs": []
    },
    {
      "cell_type": "code",
      "metadata": {
        "id": "wco04x9h8U03"
      },
      "source": [
        "#test['sim_rec'] = test['user_id'].apply(lambda x: recommender.get_similar_items_recommendation(x, N=5))\n",
        "#test.head(2)"
      ],
      "execution_count": 21,
      "outputs": []
    },
    {
      "cell_type": "code",
      "metadata": {
        "id": "CPs4BYWe8Lq9"
      },
      "source": [
        "def popularity_recommendation(data, n=5):\n",
        "    \"\"\"Топ-n популярных товаров\"\"\"\n",
        "    \n",
        "    popular = data.groupby('item_id')['sales_value'].sum().reset_index()\n",
        "    popular.sort_values('sales_value', ascending=False, inplace=True)\n",
        "    \n",
        "    recs = popular.head(n).item_id\n",
        "    \n",
        "    return recs.tolist()"
      ],
      "execution_count": 22,
      "outputs": []
    },
    {
      "cell_type": "code",
      "metadata": {
        "colab": {
          "base_uri": "https://localhost:8080/",
          "height": 112
        },
        "id": "rQG5ajlV_L7U",
        "outputId": "584fcc1b-3ca8-4f21-8e80-c4817cd7a69d"
      },
      "source": [
        "popular_recs = popularity_recommendation(data_train, n=5)\n",
        "\n",
        "test['pop_rec'] = test['user_id'].apply(lambda x: popular_recs)\n",
        "test.head(2)"
      ],
      "execution_count": 23,
      "outputs": [
        {
          "output_type": "execute_result",
          "data": {
            "text/html": [
              "<div>\n",
              "<style scoped>\n",
              "    .dataframe tbody tr th:only-of-type {\n",
              "        vertical-align: middle;\n",
              "    }\n",
              "\n",
              "    .dataframe tbody tr th {\n",
              "        vertical-align: top;\n",
              "    }\n",
              "\n",
              "    .dataframe thead th {\n",
              "        text-align: right;\n",
              "    }\n",
              "</style>\n",
              "<table border=\"1\" class=\"dataframe\">\n",
              "  <thead>\n",
              "    <tr style=\"text-align: right;\">\n",
              "      <th></th>\n",
              "      <th>user_id</th>\n",
              "      <th>actual</th>\n",
              "      <th>own_rec</th>\n",
              "      <th>pop_rec</th>\n",
              "    </tr>\n",
              "  </thead>\n",
              "  <tbody>\n",
              "    <tr>\n",
              "      <th>0</th>\n",
              "      <td>1</td>\n",
              "      <td>[821867, 834484, 856942, 865456, 889248, 90795...</td>\n",
              "      <td>[1082185, 995242, 1029743, 1005186, 6534178]</td>\n",
              "      <td>[6534178, 6533889, 1029743, 6534166, 1082185]</td>\n",
              "    </tr>\n",
              "    <tr>\n",
              "      <th>1</th>\n",
              "      <td>3</td>\n",
              "      <td>[835476, 851057, 872021, 878302, 879948, 90963...</td>\n",
              "      <td>[1082185, 1106523, 951590, 1053690, 6534178]</td>\n",
              "      <td>[6534178, 6533889, 1029743, 6534166, 1082185]</td>\n",
              "    </tr>\n",
              "  </tbody>\n",
              "</table>\n",
              "</div>"
            ],
            "text/plain": [
              "   user_id  ...                                        pop_rec\n",
              "0        1  ...  [6534178, 6533889, 1029743, 6534166, 1082185]\n",
              "1        3  ...  [6534178, 6533889, 1029743, 6534166, 1082185]\n",
              "\n",
              "[2 rows x 4 columns]"
            ]
          },
          "metadata": {},
          "execution_count": 23
        }
      ]
    },
    {
      "cell_type": "code",
      "metadata": {
        "colab": {
          "base_uri": "https://localhost:8080/"
        },
        "id": "fmXO7ov2ADJn",
        "outputId": "9e29666a-5681-42ec-f9df-5b79a2107684"
      },
      "source": [
        "als = AlternatingLeastSquares(factors=20, \n",
        "                                regularization=0.001,\n",
        "                                iterations=3, \n",
        "                                calculate_training_loss=True,\n",
        "                                use_gpu=False, \n",
        "                                num_threads=4)\n",
        "\n",
        "#als.fit(csr_matrix(user_item_matrix).T.tocsr(),  # На вход item-user matrix\n",
        "#          show_progress=True)"
      ],
      "execution_count": 24,
      "outputs": [
        {
          "output_type": "stream",
          "name": "stderr",
          "text": [
            "WARNING:root:OpenBLAS detected. Its highly recommend to set the environment variable 'export OPENBLAS_NUM_THREADS=1' to disable its internal multithreading\n"
          ]
        }
      ]
    },
    {
      "cell_type": "code",
      "metadata": {
        "id": "15-M_9GAFKeW"
      },
      "source": [
        "#test['als_rec'] = test['user_id'].apply(lambda x: get_recommendations(x, model=als, N=5))\n",
        "#test.tail(2)"
      ],
      "execution_count": 25,
      "outputs": []
    },
    {
      "cell_type": "markdown",
      "metadata": {
        "id": "nX23TsSSnhYC"
      },
      "source": [
        "###Валидация данных"
      ]
    },
    {
      "cell_type": "code",
      "metadata": {
        "id": "Y2KJuOeYp2UU"
      },
      "source": [
        "def ap_k(recommended_list, bought_list, k=5):\n",
        "    \n",
        "    bought_list = np.array(bought_list)\n",
        "    recommended_list = np.array(recommended_list)\n",
        "    \n",
        "    flags = np.isin(recommended_list, bought_list)\n",
        "    \n",
        "    if sum(flags) == 0:\n",
        "        return 0\n",
        "\n",
        "    sum_ = 0\n",
        "    k = len(recommended_list)-1\n",
        "    for i in range(1, k+1):\n",
        "        \n",
        "        if flags[i - 1] == True:\n",
        "            p_k = precision_at_k(recommended_list, bought_list, k=i)\n",
        "#             print(p_k)\n",
        "            \n",
        "            sum_ += p_k\n",
        "            \n",
        "    result = sum_ / min(len(recommended_list), k)\n",
        "    \n",
        "    return result"
      ],
      "execution_count": 26,
      "outputs": []
    },
    {
      "cell_type": "code",
      "metadata": {
        "id": "LoEKd8oRoaix"
      },
      "source": [
        "def map_k(recommended_list_list, bought_list_list, k=5):\n",
        "    \n",
        "    ap = list()\n",
        "    for i in range(len(recommended_list_list)):\n",
        "\n",
        "      ap.append(ap_k(recommended_list_list[i], bought_list_list[i]))\n",
        "    \n",
        "    map_metric = np.mean(ap)\n",
        "    \n",
        "    return map_metric"
      ],
      "execution_count": 27,
      "outputs": []
    },
    {
      "cell_type": "code",
      "metadata": {
        "colab": {
          "base_uri": "https://localhost:8080/"
        },
        "id": "tDVsUqjN_3Rp",
        "outputId": "278b5c32-d05c-491a-f20c-63abd06f560c"
      },
      "source": [
        "map_k(test['pop_rec'], test['actual'])"
      ],
      "execution_count": 28,
      "outputs": [
        {
          "output_type": "execute_result",
          "data": {
            "text/plain": [
              "0.07528989057651478"
            ]
          },
          "metadata": {},
          "execution_count": 28
        }
      ]
    },
    {
      "cell_type": "markdown",
      "metadata": {
        "id": "iFK9njU8_7kF"
      },
      "source": [
        "0.07528989057651478"
      ]
    },
    {
      "cell_type": "code",
      "metadata": {
        "colab": {
          "base_uri": "https://localhost:8080/"
        },
        "id": "3e3XzbQpngwj",
        "outputId": "0119378b-4f7e-43db-fce8-3bbe329715e3"
      },
      "source": [
        "map_k(test['own_rec'], test['actual'])"
      ],
      "execution_count": 29,
      "outputs": [
        {
          "output_type": "execute_result",
          "data": {
            "text/plain": [
              "0.2598637650389242"
            ]
          },
          "metadata": {},
          "execution_count": 29
        }
      ]
    },
    {
      "cell_type": "markdown",
      "metadata": {
        "id": "2GrBmEm460Xq"
      },
      "source": [
        "0.2598637650389242"
      ]
    },
    {
      "cell_type": "code",
      "metadata": {
        "id": "ptlYCuec8oks"
      },
      "source": [
        "#map_k(test['sim_rec'], test['actual'])"
      ],
      "execution_count": 30,
      "outputs": []
    },
    {
      "cell_type": "markdown",
      "metadata": {
        "id": "o03l4AlH9Ra6"
      },
      "source": [
        "0.03419483913114486"
      ]
    },
    {
      "cell_type": "code",
      "metadata": {
        "id": "o3WRBEw3Kk8T"
      },
      "source": [
        "#map_k(test['als_rec'], test['actual'])"
      ],
      "execution_count": 31,
      "outputs": []
    },
    {
      "cell_type": "markdown",
      "metadata": {
        "id": "5vtU0pwqKsWU"
      },
      "source": [
        "0.15292748652621263"
      ]
    },
    {
      "cell_type": "markdown",
      "metadata": {
        "id": "b5Yx0LjZSMiF"
      },
      "source": [
        "###2 уровень"
      ]
    },
    {
      "cell_type": "code",
      "metadata": {
        "colab": {
          "base_uri": "https://localhost:8080/",
          "height": 112
        },
        "id": "I8wv0cmhSLfD",
        "outputId": "ea0196ad-c851-400c-f01d-77ed62a21699"
      },
      "source": [
        "test['lvl_2_rec'] = test['user_id'].apply(lambda x: get_recommendations(x, model=own, N=20))\n",
        "train_lvl_2 = test[['user_id', 'lvl_2_rec']]\n",
        "train_lvl_2.tail(2)"
      ],
      "execution_count": 32,
      "outputs": [
        {
          "output_type": "execute_result",
          "data": {
            "text/html": [
              "<div>\n",
              "<style scoped>\n",
              "    .dataframe tbody tr th:only-of-type {\n",
              "        vertical-align: middle;\n",
              "    }\n",
              "\n",
              "    .dataframe tbody tr th {\n",
              "        vertical-align: top;\n",
              "    }\n",
              "\n",
              "    .dataframe thead th {\n",
              "        text-align: right;\n",
              "    }\n",
              "</style>\n",
              "<table border=\"1\" class=\"dataframe\">\n",
              "  <thead>\n",
              "    <tr style=\"text-align: right;\">\n",
              "      <th></th>\n",
              "      <th>user_id</th>\n",
              "      <th>lvl_2_rec</th>\n",
              "    </tr>\n",
              "  </thead>\n",
              "  <tbody>\n",
              "    <tr>\n",
              "      <th>2039</th>\n",
              "      <td>2499</td>\n",
              "      <td>[1082185, 6534178, 1070820, 1085604, 883404, 6...</td>\n",
              "    </tr>\n",
              "    <tr>\n",
              "      <th>2040</th>\n",
              "      <td>2500</td>\n",
              "      <td>[1082185, 6534178, 995242, 1029743, 1126899, 5...</td>\n",
              "    </tr>\n",
              "  </tbody>\n",
              "</table>\n",
              "</div>"
            ],
            "text/plain": [
              "      user_id                                          lvl_2_rec\n",
              "2039     2499  [1082185, 6534178, 1070820, 1085604, 883404, 6...\n",
              "2040     2500  [1082185, 6534178, 995242, 1029743, 1126899, 5..."
            ]
          },
          "metadata": {},
          "execution_count": 32
        }
      ]
    },
    {
      "cell_type": "code",
      "metadata": {
        "colab": {
          "base_uri": "https://localhost:8080/"
        },
        "id": "cqXrSopWVtSh",
        "outputId": "92a5bf1b-ebd0-4cc7-fc16-661956787160"
      },
      "source": [
        "train_lvl_2['lvl_2_rec'][1925]"
      ],
      "execution_count": 33,
      "outputs": [
        {
          "output_type": "execute_result",
          "data": {
            "text/plain": [
              "[1082185, 6534178, 5574377, 1126711]"
            ]
          },
          "metadata": {},
          "execution_count": 33
        }
      ]
    },
    {
      "cell_type": "code",
      "metadata": {
        "id": "odDLdbOEWAeh"
      },
      "source": [
        "#Добавим наиболее популярные товары пользователям у которых не достаёт в рекомендации\n",
        "overall_top_purchases = data_train.groupby('item_id')['quantity'].sum().reset_index()\n",
        "overall_top_purchases.sort_values('quantity', ascending=False, inplace=True)\n",
        "overall_top_purchases = overall_top_purchases[overall_top_purchases['item_id'] != 999999]\n",
        "overall_top_purchases = overall_top_purchases.item_id.tolist()\n"
      ],
      "execution_count": 34,
      "outputs": []
    },
    {
      "cell_type": "code",
      "metadata": {
        "id": "_Z3ARcPrX9va"
      },
      "source": [
        "def extend_with_top_popular_2(recommendations, N=5):\n",
        "    \"\"\"Если кол-во рекоммендаций < N, то дополняем их топ-популярными\"\"\"\n",
        "\n",
        "    if len(recommendations) < N:\n",
        "        unique_top_purchases = list(set(overall_top_purchases) - set(recommendations))\n",
        "        recommendations.extend(unique_top_purchases[:N])\n",
        "        recommendations = recommendations[:N]\n",
        "\n",
        "    return recommendations"
      ],
      "execution_count": 35,
      "outputs": []
    },
    {
      "cell_type": "code",
      "metadata": {
        "colab": {
          "base_uri": "https://localhost:8080/"
        },
        "id": "oOM58KefYEQI",
        "outputId": "015b27e2-febf-4e45-ae51-9811239a75e6"
      },
      "source": [
        "train_lvl_2['lvl_2_rec'] = train_lvl_2['lvl_2_rec'].apply(lambda x: extend_with_top_popular_2(x, N=20))"
      ],
      "execution_count": 36,
      "outputs": [
        {
          "output_type": "stream",
          "name": "stderr",
          "text": [
            "/usr/local/lib/python3.7/dist-packages/ipykernel_launcher.py:1: SettingWithCopyWarning: \n",
            "A value is trying to be set on a copy of a slice from a DataFrame.\n",
            "Try using .loc[row_indexer,col_indexer] = value instead\n",
            "\n",
            "See the caveats in the documentation: https://pandas.pydata.org/pandas-docs/stable/user_guide/indexing.html#returning-a-view-versus-a-copy\n",
            "  \"\"\"Entry point for launching an IPython kernel.\n"
          ]
        }
      ]
    },
    {
      "cell_type": "code",
      "metadata": {
        "colab": {
          "base_uri": "https://localhost:8080/"
        },
        "id": "V91neBB_Y0OX",
        "outputId": "003fa380-3efd-4b7c-a46e-d5b6622194c7"
      },
      "source": [
        "train_lvl_2['lvl_2_rec'][1925]"
      ],
      "execution_count": 37,
      "outputs": [
        {
          "output_type": "execute_result",
          "data": {
            "text/plain": [
              "[1082185,\n",
              " 6534178,\n",
              " 5574377,\n",
              " 1126711,\n",
              " 1048583,\n",
              " 262171,\n",
              " 2621476,\n",
              " 1048620,\n",
              " 1048623,\n",
              " 1048628,\n",
              " 1048629,\n",
              " 12582964,\n",
              " 786492,\n",
              " 1048651,\n",
              " 1048662,\n",
              " 6553687,\n",
              " 524374,\n",
              " 1048668,\n",
              " 6553694,\n",
              " 1048672]"
            ]
          },
          "metadata": {},
          "execution_count": 37
        }
      ]
    },
    {
      "cell_type": "code",
      "metadata": {
        "colab": {
          "base_uri": "https://localhost:8080/",
          "height": 175
        },
        "id": "7dGFE5CWSqpR",
        "outputId": "c17a6558-5e9f-4875-ce56-fd0ef2f43cca"
      },
      "source": [
        "s = train_lvl_2.apply(lambda x: pd.Series(x['lvl_2_rec']), axis=1).stack().reset_index(level=1, drop=True)\n",
        "s.name = 'item_id'\n",
        "\n",
        "train_lvl_2 = train_lvl_2.drop('lvl_2_rec', axis=1).join(s)\n",
        "train_lvl_2['flag'] = 1\n",
        "\n",
        "train_lvl_2.head(4)"
      ],
      "execution_count": 38,
      "outputs": [
        {
          "output_type": "execute_result",
          "data": {
            "text/html": [
              "<div>\n",
              "<style scoped>\n",
              "    .dataframe tbody tr th:only-of-type {\n",
              "        vertical-align: middle;\n",
              "    }\n",
              "\n",
              "    .dataframe tbody tr th {\n",
              "        vertical-align: top;\n",
              "    }\n",
              "\n",
              "    .dataframe thead th {\n",
              "        text-align: right;\n",
              "    }\n",
              "</style>\n",
              "<table border=\"1\" class=\"dataframe\">\n",
              "  <thead>\n",
              "    <tr style=\"text-align: right;\">\n",
              "      <th></th>\n",
              "      <th>user_id</th>\n",
              "      <th>item_id</th>\n",
              "      <th>flag</th>\n",
              "    </tr>\n",
              "  </thead>\n",
              "  <tbody>\n",
              "    <tr>\n",
              "      <th>0</th>\n",
              "      <td>1</td>\n",
              "      <td>1082185</td>\n",
              "      <td>1</td>\n",
              "    </tr>\n",
              "    <tr>\n",
              "      <th>0</th>\n",
              "      <td>1</td>\n",
              "      <td>995242</td>\n",
              "      <td>1</td>\n",
              "    </tr>\n",
              "    <tr>\n",
              "      <th>0</th>\n",
              "      <td>1</td>\n",
              "      <td>1029743</td>\n",
              "      <td>1</td>\n",
              "    </tr>\n",
              "    <tr>\n",
              "      <th>0</th>\n",
              "      <td>1</td>\n",
              "      <td>1005186</td>\n",
              "      <td>1</td>\n",
              "    </tr>\n",
              "  </tbody>\n",
              "</table>\n",
              "</div>"
            ],
            "text/plain": [
              "   user_id  item_id  flag\n",
              "0        1  1082185     1\n",
              "0        1   995242     1\n",
              "0        1  1029743     1\n",
              "0        1  1005186     1"
            ]
          },
          "metadata": {},
          "execution_count": 38
        }
      ]
    },
    {
      "cell_type": "code",
      "metadata": {
        "id": "EDBJKZhkTA0q"
      },
      "source": [
        "targets_lvl_2 = data_train[['user_id', 'item_id']].copy()\n",
        "targets_lvl_2['target'] = 1  # тут только покупки \n",
        "\n",
        "targets_lvl_2 = train_lvl_2.merge(targets_lvl_2, on=['user_id', 'item_id'], how='left')\n",
        "\n",
        "targets_lvl_2['target'].fillna(0, inplace= True)\n",
        "targets_lvl_2.drop('flag', axis=1, inplace=True)"
      ],
      "execution_count": 39,
      "outputs": []
    },
    {
      "cell_type": "code",
      "metadata": {
        "colab": {
          "base_uri": "https://localhost:8080/",
          "height": 313
        },
        "id": "L5mXv-8TTB3I",
        "outputId": "5cb75c7e-408e-4800-a538-564b2bd4f097"
      },
      "source": [
        "targets_lvl_2 = targets_lvl_2.merge(item_features, on='item_id', how='left')\n",
        "\n",
        "\n",
        "targets_lvl_2 = targets_lvl_2.merge(user_features, on='user_id', how='left')\n",
        "\n",
        "targets_lvl_2.head(5)"
      ],
      "execution_count": 40,
      "outputs": [
        {
          "output_type": "execute_result",
          "data": {
            "text/html": [
              "<div>\n",
              "<style scoped>\n",
              "    .dataframe tbody tr th:only-of-type {\n",
              "        vertical-align: middle;\n",
              "    }\n",
              "\n",
              "    .dataframe tbody tr th {\n",
              "        vertical-align: top;\n",
              "    }\n",
              "\n",
              "    .dataframe thead th {\n",
              "        text-align: right;\n",
              "    }\n",
              "</style>\n",
              "<table border=\"1\" class=\"dataframe\">\n",
              "  <thead>\n",
              "    <tr style=\"text-align: right;\">\n",
              "      <th></th>\n",
              "      <th>user_id</th>\n",
              "      <th>item_id</th>\n",
              "      <th>target</th>\n",
              "      <th>manufacturer</th>\n",
              "      <th>department</th>\n",
              "      <th>brand</th>\n",
              "      <th>commodity_desc</th>\n",
              "      <th>sub_commodity_desc</th>\n",
              "      <th>curr_size_of_product</th>\n",
              "      <th>age_desc</th>\n",
              "      <th>marital_status_code</th>\n",
              "      <th>income_desc</th>\n",
              "      <th>homeowner_desc</th>\n",
              "      <th>hh_comp_desc</th>\n",
              "      <th>household_size_desc</th>\n",
              "      <th>kid_category_desc</th>\n",
              "    </tr>\n",
              "  </thead>\n",
              "  <tbody>\n",
              "    <tr>\n",
              "      <th>0</th>\n",
              "      <td>1</td>\n",
              "      <td>1082185</td>\n",
              "      <td>1.0</td>\n",
              "      <td>2</td>\n",
              "      <td>PRODUCE</td>\n",
              "      <td>National</td>\n",
              "      <td>TROPICAL FRUIT</td>\n",
              "      <td>BANANAS</td>\n",
              "      <td>40 LB</td>\n",
              "      <td>65+</td>\n",
              "      <td>A</td>\n",
              "      <td>35-49K</td>\n",
              "      <td>Homeowner</td>\n",
              "      <td>2 Adults No Kids</td>\n",
              "      <td>2</td>\n",
              "      <td>None/Unknown</td>\n",
              "    </tr>\n",
              "    <tr>\n",
              "      <th>1</th>\n",
              "      <td>1</td>\n",
              "      <td>1082185</td>\n",
              "      <td>1.0</td>\n",
              "      <td>2</td>\n",
              "      <td>PRODUCE</td>\n",
              "      <td>National</td>\n",
              "      <td>TROPICAL FRUIT</td>\n",
              "      <td>BANANAS</td>\n",
              "      <td>40 LB</td>\n",
              "      <td>65+</td>\n",
              "      <td>A</td>\n",
              "      <td>35-49K</td>\n",
              "      <td>Homeowner</td>\n",
              "      <td>2 Adults No Kids</td>\n",
              "      <td>2</td>\n",
              "      <td>None/Unknown</td>\n",
              "    </tr>\n",
              "    <tr>\n",
              "      <th>2</th>\n",
              "      <td>1</td>\n",
              "      <td>1082185</td>\n",
              "      <td>1.0</td>\n",
              "      <td>2</td>\n",
              "      <td>PRODUCE</td>\n",
              "      <td>National</td>\n",
              "      <td>TROPICAL FRUIT</td>\n",
              "      <td>BANANAS</td>\n",
              "      <td>40 LB</td>\n",
              "      <td>65+</td>\n",
              "      <td>A</td>\n",
              "      <td>35-49K</td>\n",
              "      <td>Homeowner</td>\n",
              "      <td>2 Adults No Kids</td>\n",
              "      <td>2</td>\n",
              "      <td>None/Unknown</td>\n",
              "    </tr>\n",
              "    <tr>\n",
              "      <th>3</th>\n",
              "      <td>1</td>\n",
              "      <td>1082185</td>\n",
              "      <td>1.0</td>\n",
              "      <td>2</td>\n",
              "      <td>PRODUCE</td>\n",
              "      <td>National</td>\n",
              "      <td>TROPICAL FRUIT</td>\n",
              "      <td>BANANAS</td>\n",
              "      <td>40 LB</td>\n",
              "      <td>65+</td>\n",
              "      <td>A</td>\n",
              "      <td>35-49K</td>\n",
              "      <td>Homeowner</td>\n",
              "      <td>2 Adults No Kids</td>\n",
              "      <td>2</td>\n",
              "      <td>None/Unknown</td>\n",
              "    </tr>\n",
              "    <tr>\n",
              "      <th>4</th>\n",
              "      <td>1</td>\n",
              "      <td>1082185</td>\n",
              "      <td>1.0</td>\n",
              "      <td>2</td>\n",
              "      <td>PRODUCE</td>\n",
              "      <td>National</td>\n",
              "      <td>TROPICAL FRUIT</td>\n",
              "      <td>BANANAS</td>\n",
              "      <td>40 LB</td>\n",
              "      <td>65+</td>\n",
              "      <td>A</td>\n",
              "      <td>35-49K</td>\n",
              "      <td>Homeowner</td>\n",
              "      <td>2 Adults No Kids</td>\n",
              "      <td>2</td>\n",
              "      <td>None/Unknown</td>\n",
              "    </tr>\n",
              "  </tbody>\n",
              "</table>\n",
              "</div>"
            ],
            "text/plain": [
              "   user_id  item_id  ...  household_size_desc  kid_category_desc\n",
              "0        1  1082185  ...                    2       None/Unknown\n",
              "1        1  1082185  ...                    2       None/Unknown\n",
              "2        1  1082185  ...                    2       None/Unknown\n",
              "3        1  1082185  ...                    2       None/Unknown\n",
              "4        1  1082185  ...                    2       None/Unknown\n",
              "\n",
              "[5 rows x 16 columns]"
            ]
          },
          "metadata": {},
          "execution_count": 40
        }
      ]
    },
    {
      "cell_type": "code",
      "metadata": {
        "colab": {
          "base_uri": "https://localhost:8080/",
          "height": 313
        },
        "id": "xHLwKdzjDgis",
        "outputId": "ec47bb76-1e01-447c-cf7d-21620b0af2ac"
      },
      "source": [
        "targets_lvl_2 = targets_lvl_2.drop_duplicates()\n",
        "targets_lvl_2.head(5)"
      ],
      "execution_count": 41,
      "outputs": [
        {
          "output_type": "execute_result",
          "data": {
            "text/html": [
              "<div>\n",
              "<style scoped>\n",
              "    .dataframe tbody tr th:only-of-type {\n",
              "        vertical-align: middle;\n",
              "    }\n",
              "\n",
              "    .dataframe tbody tr th {\n",
              "        vertical-align: top;\n",
              "    }\n",
              "\n",
              "    .dataframe thead th {\n",
              "        text-align: right;\n",
              "    }\n",
              "</style>\n",
              "<table border=\"1\" class=\"dataframe\">\n",
              "  <thead>\n",
              "    <tr style=\"text-align: right;\">\n",
              "      <th></th>\n",
              "      <th>user_id</th>\n",
              "      <th>item_id</th>\n",
              "      <th>target</th>\n",
              "      <th>manufacturer</th>\n",
              "      <th>department</th>\n",
              "      <th>brand</th>\n",
              "      <th>commodity_desc</th>\n",
              "      <th>sub_commodity_desc</th>\n",
              "      <th>curr_size_of_product</th>\n",
              "      <th>age_desc</th>\n",
              "      <th>marital_status_code</th>\n",
              "      <th>income_desc</th>\n",
              "      <th>homeowner_desc</th>\n",
              "      <th>hh_comp_desc</th>\n",
              "      <th>household_size_desc</th>\n",
              "      <th>kid_category_desc</th>\n",
              "    </tr>\n",
              "  </thead>\n",
              "  <tbody>\n",
              "    <tr>\n",
              "      <th>0</th>\n",
              "      <td>1</td>\n",
              "      <td>1082185</td>\n",
              "      <td>1.0</td>\n",
              "      <td>2</td>\n",
              "      <td>PRODUCE</td>\n",
              "      <td>National</td>\n",
              "      <td>TROPICAL FRUIT</td>\n",
              "      <td>BANANAS</td>\n",
              "      <td>40 LB</td>\n",
              "      <td>65+</td>\n",
              "      <td>A</td>\n",
              "      <td>35-49K</td>\n",
              "      <td>Homeowner</td>\n",
              "      <td>2 Adults No Kids</td>\n",
              "      <td>2</td>\n",
              "      <td>None/Unknown</td>\n",
              "    </tr>\n",
              "    <tr>\n",
              "      <th>37</th>\n",
              "      <td>1</td>\n",
              "      <td>995242</td>\n",
              "      <td>1.0</td>\n",
              "      <td>69</td>\n",
              "      <td>GROCERY</td>\n",
              "      <td>Private</td>\n",
              "      <td>FLUID MILK PRODUCTS</td>\n",
              "      <td>FLUID MILK WHITE ONLY</td>\n",
              "      <td></td>\n",
              "      <td>65+</td>\n",
              "      <td>A</td>\n",
              "      <td>35-49K</td>\n",
              "      <td>Homeowner</td>\n",
              "      <td>2 Adults No Kids</td>\n",
              "      <td>2</td>\n",
              "      <td>None/Unknown</td>\n",
              "    </tr>\n",
              "    <tr>\n",
              "      <th>69</th>\n",
              "      <td>1</td>\n",
              "      <td>1029743</td>\n",
              "      <td>1.0</td>\n",
              "      <td>69</td>\n",
              "      <td>GROCERY</td>\n",
              "      <td>Private</td>\n",
              "      <td>FLUID MILK PRODUCTS</td>\n",
              "      <td>FLUID MILK WHITE ONLY</td>\n",
              "      <td>1 GA</td>\n",
              "      <td>65+</td>\n",
              "      <td>A</td>\n",
              "      <td>35-49K</td>\n",
              "      <td>Homeowner</td>\n",
              "      <td>2 Adults No Kids</td>\n",
              "      <td>2</td>\n",
              "      <td>None/Unknown</td>\n",
              "    </tr>\n",
              "    <tr>\n",
              "      <th>71</th>\n",
              "      <td>1</td>\n",
              "      <td>1005186</td>\n",
              "      <td>1.0</td>\n",
              "      <td>2</td>\n",
              "      <td>SALAD BAR</td>\n",
              "      <td>National</td>\n",
              "      <td>SALAD BAR</td>\n",
              "      <td>SALAD BAR FRESH FRUIT</td>\n",
              "      <td></td>\n",
              "      <td>65+</td>\n",
              "      <td>A</td>\n",
              "      <td>35-49K</td>\n",
              "      <td>Homeowner</td>\n",
              "      <td>2 Adults No Kids</td>\n",
              "      <td>2</td>\n",
              "      <td>None/Unknown</td>\n",
              "    </tr>\n",
              "    <tr>\n",
              "      <th>75</th>\n",
              "      <td>1</td>\n",
              "      <td>6534178</td>\n",
              "      <td>0.0</td>\n",
              "      <td>69</td>\n",
              "      <td>KIOSK-GAS</td>\n",
              "      <td>Private</td>\n",
              "      <td>COUPON/MISC ITEMS</td>\n",
              "      <td>GASOLINE-REG UNLEADED</td>\n",
              "      <td></td>\n",
              "      <td>65+</td>\n",
              "      <td>A</td>\n",
              "      <td>35-49K</td>\n",
              "      <td>Homeowner</td>\n",
              "      <td>2 Adults No Kids</td>\n",
              "      <td>2</td>\n",
              "      <td>None/Unknown</td>\n",
              "    </tr>\n",
              "  </tbody>\n",
              "</table>\n",
              "</div>"
            ],
            "text/plain": [
              "    user_id  item_id  ...  household_size_desc  kid_category_desc\n",
              "0         1  1082185  ...                    2       None/Unknown\n",
              "37        1   995242  ...                    2       None/Unknown\n",
              "69        1  1029743  ...                    2       None/Unknown\n",
              "71        1  1005186  ...                    2       None/Unknown\n",
              "75        1  6534178  ...                    2       None/Unknown\n",
              "\n",
              "[5 rows x 16 columns]"
            ]
          },
          "metadata": {},
          "execution_count": 41
        }
      ]
    },
    {
      "cell_type": "code",
      "metadata": {
        "id": "0MEDKZvpT_az"
      },
      "source": [
        "X_train = targets_lvl_2.drop('target', axis=1)\n",
        "y_train = targets_lvl_2[['target']]"
      ],
      "execution_count": 42,
      "outputs": []
    },
    {
      "cell_type": "code",
      "metadata": {
        "colab": {
          "base_uri": "https://localhost:8080/"
        },
        "id": "D1qZswlsUIRh",
        "outputId": "9457b07c-45ac-41d9-c995-7e5c3b222f5c"
      },
      "source": [
        "cat_feats = X_train.columns[2:].tolist()\n",
        "X_train[cat_feats] = X_train[cat_feats].astype('category')\n",
        "\n",
        "cat_feats"
      ],
      "execution_count": 43,
      "outputs": [
        {
          "output_type": "execute_result",
          "data": {
            "text/plain": [
              "['manufacturer',\n",
              " 'department',\n",
              " 'brand',\n",
              " 'commodity_desc',\n",
              " 'sub_commodity_desc',\n",
              " 'curr_size_of_product',\n",
              " 'age_desc',\n",
              " 'marital_status_code',\n",
              " 'income_desc',\n",
              " 'homeowner_desc',\n",
              " 'hh_comp_desc',\n",
              " 'household_size_desc',\n",
              " 'kid_category_desc']"
            ]
          },
          "metadata": {},
          "execution_count": 43
        }
      ]
    },
    {
      "cell_type": "code",
      "metadata": {
        "colab": {
          "base_uri": "https://localhost:8080/"
        },
        "id": "YJt8DbkjUMlx",
        "outputId": "acf52e59-ba7e-4e87-db1b-0ee2a261d2d3"
      },
      "source": [
        "lgb = LGBMClassifier(objective='binary', max_depth=15, categorical_column=cat_feats)\n",
        "lgb.fit(X_train, y_train)"
      ],
      "execution_count": 44,
      "outputs": [
        {
          "output_type": "stream",
          "name": "stderr",
          "text": [
            "/usr/local/lib/python3.7/dist-packages/sklearn/preprocessing/_label.py:235: DataConversionWarning: A column-vector y was passed when a 1d array was expected. Please change the shape of y to (n_samples, ), for example using ravel().\n",
            "  y = column_or_1d(y, warn=True)\n",
            "/usr/local/lib/python3.7/dist-packages/sklearn/preprocessing/_label.py:268: DataConversionWarning: A column-vector y was passed when a 1d array was expected. Please change the shape of y to (n_samples, ), for example using ravel().\n",
            "  y = column_or_1d(y, warn=True)\n",
            "/usr/local/lib/python3.7/dist-packages/lightgbm/basic.py:762: UserWarning: categorical_feature in param dict is overridden.\n",
            "  warnings.warn('categorical_feature in param dict is overridden.')\n"
          ]
        },
        {
          "output_type": "execute_result",
          "data": {
            "text/plain": [
              "LGBMClassifier(boosting_type='gbdt',\n",
              "               categorical_column=['manufacturer', 'department', 'brand',\n",
              "                                   'commodity_desc', 'sub_commodity_desc',\n",
              "                                   'curr_size_of_product', 'age_desc',\n",
              "                                   'marital_status_code', 'income_desc',\n",
              "                                   'homeowner_desc', 'hh_comp_desc',\n",
              "                                   'household_size_desc', 'kid_category_desc'],\n",
              "               class_weight=None, colsample_bytree=1.0, importance_type='split',\n",
              "               learning_rate=0.1, max_depth=15, min_child_samples=20,\n",
              "               min_child_weight=0.001, min_split_gain=0.0, n_estimators=100,\n",
              "               n_jobs=-1, num_leaves=31, objective='binary', random_state=None,\n",
              "               reg_alpha=0.0, reg_lambda=0.0, silent=True, subsample=1.0,\n",
              "               subsample_for_bin=200000, subsample_freq=0)"
            ]
          },
          "metadata": {},
          "execution_count": 44
        }
      ]
    },
    {
      "cell_type": "code",
      "metadata": {
        "colab": {
          "base_uri": "https://localhost:8080/",
          "height": 112
        },
        "id": "w5vHGwUwsBIT",
        "outputId": "cec97c15-a99d-468a-a0e9-b99073a62c44"
      },
      "source": [
        "test_lvl_2 = test[['user_id', 'lvl_2_rec']]\n",
        "test_lvl_2.tail(2)"
      ],
      "execution_count": 45,
      "outputs": [
        {
          "output_type": "execute_result",
          "data": {
            "text/html": [
              "<div>\n",
              "<style scoped>\n",
              "    .dataframe tbody tr th:only-of-type {\n",
              "        vertical-align: middle;\n",
              "    }\n",
              "\n",
              "    .dataframe tbody tr th {\n",
              "        vertical-align: top;\n",
              "    }\n",
              "\n",
              "    .dataframe thead th {\n",
              "        text-align: right;\n",
              "    }\n",
              "</style>\n",
              "<table border=\"1\" class=\"dataframe\">\n",
              "  <thead>\n",
              "    <tr style=\"text-align: right;\">\n",
              "      <th></th>\n",
              "      <th>user_id</th>\n",
              "      <th>lvl_2_rec</th>\n",
              "    </tr>\n",
              "  </thead>\n",
              "  <tbody>\n",
              "    <tr>\n",
              "      <th>2039</th>\n",
              "      <td>2499</td>\n",
              "      <td>[1082185, 6534178, 1070820, 1085604, 883404, 6...</td>\n",
              "    </tr>\n",
              "    <tr>\n",
              "      <th>2040</th>\n",
              "      <td>2500</td>\n",
              "      <td>[1082185, 6534178, 995242, 1029743, 1126899, 5...</td>\n",
              "    </tr>\n",
              "  </tbody>\n",
              "</table>\n",
              "</div>"
            ],
            "text/plain": [
              "      user_id                                          lvl_2_rec\n",
              "2039     2499  [1082185, 6534178, 1070820, 1085604, 883404, 6...\n",
              "2040     2500  [1082185, 6534178, 995242, 1029743, 1126899, 5..."
            ]
          },
          "metadata": {},
          "execution_count": 45
        }
      ]
    },
    {
      "cell_type": "code",
      "metadata": {
        "colab": {
          "base_uri": "https://localhost:8080/",
          "height": 175
        },
        "id": "_K9yYkJGEGRf",
        "outputId": "a2c6a3c8-5a67-4cb7-d7a2-ccb4c2ab7790"
      },
      "source": [
        "s = test_lvl_2.apply(lambda x: pd.Series(x['lvl_2_rec']), axis=1).stack().reset_index(level=1, drop=True)\n",
        "s.name = 'item_id'\n",
        "\n",
        "test_lvl_2 = test_lvl_2.drop('lvl_2_rec', axis=1).join(s)\n",
        "\n",
        "\n",
        "test_lvl_2.head(4)"
      ],
      "execution_count": 46,
      "outputs": [
        {
          "output_type": "execute_result",
          "data": {
            "text/html": [
              "<div>\n",
              "<style scoped>\n",
              "    .dataframe tbody tr th:only-of-type {\n",
              "        vertical-align: middle;\n",
              "    }\n",
              "\n",
              "    .dataframe tbody tr th {\n",
              "        vertical-align: top;\n",
              "    }\n",
              "\n",
              "    .dataframe thead th {\n",
              "        text-align: right;\n",
              "    }\n",
              "</style>\n",
              "<table border=\"1\" class=\"dataframe\">\n",
              "  <thead>\n",
              "    <tr style=\"text-align: right;\">\n",
              "      <th></th>\n",
              "      <th>user_id</th>\n",
              "      <th>item_id</th>\n",
              "    </tr>\n",
              "  </thead>\n",
              "  <tbody>\n",
              "    <tr>\n",
              "      <th>0</th>\n",
              "      <td>1</td>\n",
              "      <td>1082185.0</td>\n",
              "    </tr>\n",
              "    <tr>\n",
              "      <th>0</th>\n",
              "      <td>1</td>\n",
              "      <td>995242.0</td>\n",
              "    </tr>\n",
              "    <tr>\n",
              "      <th>0</th>\n",
              "      <td>1</td>\n",
              "      <td>1029743.0</td>\n",
              "    </tr>\n",
              "    <tr>\n",
              "      <th>0</th>\n",
              "      <td>1</td>\n",
              "      <td>1005186.0</td>\n",
              "    </tr>\n",
              "  </tbody>\n",
              "</table>\n",
              "</div>"
            ],
            "text/plain": [
              "   user_id    item_id\n",
              "0        1  1082185.0\n",
              "0        1   995242.0\n",
              "0        1  1029743.0\n",
              "0        1  1005186.0"
            ]
          },
          "metadata": {},
          "execution_count": 46
        }
      ]
    },
    {
      "cell_type": "code",
      "metadata": {
        "colab": {
          "base_uri": "https://localhost:8080/",
          "height": 313
        },
        "id": "2GToSlOXEGYT",
        "outputId": "acaaeb0e-35d9-4860-fbd2-33f5bfb80734"
      },
      "source": [
        "test_lvl_2 = test_lvl_2.merge(item_features, on='item_id', how='left')\n",
        "\n",
        "\n",
        "test_lvl_2 = test_lvl_2.merge(user_features, on='user_id', how='left')\n",
        "\n",
        "test_lvl_2.head(5)"
      ],
      "execution_count": 47,
      "outputs": [
        {
          "output_type": "execute_result",
          "data": {
            "text/html": [
              "<div>\n",
              "<style scoped>\n",
              "    .dataframe tbody tr th:only-of-type {\n",
              "        vertical-align: middle;\n",
              "    }\n",
              "\n",
              "    .dataframe tbody tr th {\n",
              "        vertical-align: top;\n",
              "    }\n",
              "\n",
              "    .dataframe thead th {\n",
              "        text-align: right;\n",
              "    }\n",
              "</style>\n",
              "<table border=\"1\" class=\"dataframe\">\n",
              "  <thead>\n",
              "    <tr style=\"text-align: right;\">\n",
              "      <th></th>\n",
              "      <th>user_id</th>\n",
              "      <th>item_id</th>\n",
              "      <th>manufacturer</th>\n",
              "      <th>department</th>\n",
              "      <th>brand</th>\n",
              "      <th>commodity_desc</th>\n",
              "      <th>sub_commodity_desc</th>\n",
              "      <th>curr_size_of_product</th>\n",
              "      <th>age_desc</th>\n",
              "      <th>marital_status_code</th>\n",
              "      <th>income_desc</th>\n",
              "      <th>homeowner_desc</th>\n",
              "      <th>hh_comp_desc</th>\n",
              "      <th>household_size_desc</th>\n",
              "      <th>kid_category_desc</th>\n",
              "    </tr>\n",
              "  </thead>\n",
              "  <tbody>\n",
              "    <tr>\n",
              "      <th>0</th>\n",
              "      <td>1</td>\n",
              "      <td>1082185.0</td>\n",
              "      <td>2</td>\n",
              "      <td>PRODUCE</td>\n",
              "      <td>National</td>\n",
              "      <td>TROPICAL FRUIT</td>\n",
              "      <td>BANANAS</td>\n",
              "      <td>40 LB</td>\n",
              "      <td>65+</td>\n",
              "      <td>A</td>\n",
              "      <td>35-49K</td>\n",
              "      <td>Homeowner</td>\n",
              "      <td>2 Adults No Kids</td>\n",
              "      <td>2</td>\n",
              "      <td>None/Unknown</td>\n",
              "    </tr>\n",
              "    <tr>\n",
              "      <th>1</th>\n",
              "      <td>1</td>\n",
              "      <td>995242.0</td>\n",
              "      <td>69</td>\n",
              "      <td>GROCERY</td>\n",
              "      <td>Private</td>\n",
              "      <td>FLUID MILK PRODUCTS</td>\n",
              "      <td>FLUID MILK WHITE ONLY</td>\n",
              "      <td></td>\n",
              "      <td>65+</td>\n",
              "      <td>A</td>\n",
              "      <td>35-49K</td>\n",
              "      <td>Homeowner</td>\n",
              "      <td>2 Adults No Kids</td>\n",
              "      <td>2</td>\n",
              "      <td>None/Unknown</td>\n",
              "    </tr>\n",
              "    <tr>\n",
              "      <th>2</th>\n",
              "      <td>1</td>\n",
              "      <td>1029743.0</td>\n",
              "      <td>69</td>\n",
              "      <td>GROCERY</td>\n",
              "      <td>Private</td>\n",
              "      <td>FLUID MILK PRODUCTS</td>\n",
              "      <td>FLUID MILK WHITE ONLY</td>\n",
              "      <td>1 GA</td>\n",
              "      <td>65+</td>\n",
              "      <td>A</td>\n",
              "      <td>35-49K</td>\n",
              "      <td>Homeowner</td>\n",
              "      <td>2 Adults No Kids</td>\n",
              "      <td>2</td>\n",
              "      <td>None/Unknown</td>\n",
              "    </tr>\n",
              "    <tr>\n",
              "      <th>3</th>\n",
              "      <td>1</td>\n",
              "      <td>1005186.0</td>\n",
              "      <td>2</td>\n",
              "      <td>SALAD BAR</td>\n",
              "      <td>National</td>\n",
              "      <td>SALAD BAR</td>\n",
              "      <td>SALAD BAR FRESH FRUIT</td>\n",
              "      <td></td>\n",
              "      <td>65+</td>\n",
              "      <td>A</td>\n",
              "      <td>35-49K</td>\n",
              "      <td>Homeowner</td>\n",
              "      <td>2 Adults No Kids</td>\n",
              "      <td>2</td>\n",
              "      <td>None/Unknown</td>\n",
              "    </tr>\n",
              "    <tr>\n",
              "      <th>4</th>\n",
              "      <td>1</td>\n",
              "      <td>6534178.0</td>\n",
              "      <td>69</td>\n",
              "      <td>KIOSK-GAS</td>\n",
              "      <td>Private</td>\n",
              "      <td>COUPON/MISC ITEMS</td>\n",
              "      <td>GASOLINE-REG UNLEADED</td>\n",
              "      <td></td>\n",
              "      <td>65+</td>\n",
              "      <td>A</td>\n",
              "      <td>35-49K</td>\n",
              "      <td>Homeowner</td>\n",
              "      <td>2 Adults No Kids</td>\n",
              "      <td>2</td>\n",
              "      <td>None/Unknown</td>\n",
              "    </tr>\n",
              "  </tbody>\n",
              "</table>\n",
              "</div>"
            ],
            "text/plain": [
              "   user_id    item_id  ...  household_size_desc kid_category_desc\n",
              "0        1  1082185.0  ...                    2      None/Unknown\n",
              "1        1   995242.0  ...                    2      None/Unknown\n",
              "2        1  1029743.0  ...                    2      None/Unknown\n",
              "3        1  1005186.0  ...                    2      None/Unknown\n",
              "4        1  6534178.0  ...                    2      None/Unknown\n",
              "\n",
              "[5 rows x 15 columns]"
            ]
          },
          "metadata": {},
          "execution_count": 47
        }
      ]
    },
    {
      "cell_type": "code",
      "metadata": {
        "colab": {
          "base_uri": "https://localhost:8080/"
        },
        "id": "uCczIfSXEGc0",
        "outputId": "0259dfde-9d54-4d28-cb33-1911e290d8fb"
      },
      "source": [
        "cat_feats = test_lvl_2.columns[2:].tolist()\n",
        "test_lvl_2[cat_feats] = test_lvl_2[cat_feats].astype('category')\n",
        "\n",
        "cat_feats"
      ],
      "execution_count": 48,
      "outputs": [
        {
          "output_type": "execute_result",
          "data": {
            "text/plain": [
              "['manufacturer',\n",
              " 'department',\n",
              " 'brand',\n",
              " 'commodity_desc',\n",
              " 'sub_commodity_desc',\n",
              " 'curr_size_of_product',\n",
              " 'age_desc',\n",
              " 'marital_status_code',\n",
              " 'income_desc',\n",
              " 'homeowner_desc',\n",
              " 'hh_comp_desc',\n",
              " 'household_size_desc',\n",
              " 'kid_category_desc']"
            ]
          },
          "metadata": {},
          "execution_count": 48
        }
      ]
    },
    {
      "cell_type": "code",
      "metadata": {
        "id": "EW9-0_ZEEGiC"
      },
      "source": [
        "test_preds_proba = lgb.predict_proba(test_lvl_2)[:, 1]"
      ],
      "execution_count": 49,
      "outputs": []
    },
    {
      "cell_type": "code",
      "metadata": {
        "id": "YhmIJQCjUSDJ"
      },
      "source": [
        "def get_recomendation(X_test, test_preds_proba, userid_list):\n",
        "    X_test['predict_proba'] = test_preds_proba\n",
        "    X_test.sort_values(['user_id', 'predict_proba'], ascending=False, inplace=True)\n",
        "    result = X_test.groupby('user_id').head(5)\n",
        "    recs = result.groupby('user_id')['item_id']\n",
        "    recomendations = []\n",
        "    for user, preds in recs:\n",
        "        recomendations.append({'user_id': user, 'lgbm': preds.tolist()})\n",
        "    recomendations = pd.DataFrame(recomendations)\n",
        "    result_lvl_2 = userid_list.merge(recomendations)\n",
        "    \n",
        "    return result_lvl_2"
      ],
      "execution_count": 50,
      "outputs": []
    },
    {
      "cell_type": "code",
      "metadata": {
        "colab": {
          "base_uri": "https://localhost:8080/",
          "height": 424
        },
        "id": "F7JETSV5UUn8",
        "outputId": "8faaad8f-e678-45a3-fdb3-01c7a1a495fa"
      },
      "source": [
        "test_lvl_2 = get_recomendation(test_lvl_2, test_preds_proba, pd.DataFrame(test['user_id']))\n",
        "test_lvl_2"
      ],
      "execution_count": 51,
      "outputs": [
        {
          "output_type": "execute_result",
          "data": {
            "text/html": [
              "<div>\n",
              "<style scoped>\n",
              "    .dataframe tbody tr th:only-of-type {\n",
              "        vertical-align: middle;\n",
              "    }\n",
              "\n",
              "    .dataframe tbody tr th {\n",
              "        vertical-align: top;\n",
              "    }\n",
              "\n",
              "    .dataframe thead th {\n",
              "        text-align: right;\n",
              "    }\n",
              "</style>\n",
              "<table border=\"1\" class=\"dataframe\">\n",
              "  <thead>\n",
              "    <tr style=\"text-align: right;\">\n",
              "      <th></th>\n",
              "      <th>user_id</th>\n",
              "      <th>lgbm</th>\n",
              "    </tr>\n",
              "  </thead>\n",
              "  <tbody>\n",
              "    <tr>\n",
              "      <th>0</th>\n",
              "      <td>1</td>\n",
              "      <td>[1104349.0, 1005186.0, 1082185.0, 8090521.0, 9...</td>\n",
              "    </tr>\n",
              "    <tr>\n",
              "      <th>1</th>\n",
              "      <td>3</td>\n",
              "      <td>[883404.0, 1092026.0, 879755.0, 1133018.0, 809...</td>\n",
              "    </tr>\n",
              "    <tr>\n",
              "      <th>2</th>\n",
              "      <td>6</td>\n",
              "      <td>[883404.0, 879755.0, 839849.0, 995242.0, 11330...</td>\n",
              "    </tr>\n",
              "    <tr>\n",
              "      <th>3</th>\n",
              "      <td>7</td>\n",
              "      <td>[1092026.0, 1110572.0, 1082185.0, 8090521.0, 9...</td>\n",
              "    </tr>\n",
              "    <tr>\n",
              "      <th>4</th>\n",
              "      <td>8</td>\n",
              "      <td>[883404.0, 839849.0, 844165.0, 1082185.0, 1005...</td>\n",
              "    </tr>\n",
              "    <tr>\n",
              "      <th>...</th>\n",
              "      <td>...</td>\n",
              "      <td>...</td>\n",
              "    </tr>\n",
              "    <tr>\n",
              "      <th>2036</th>\n",
              "      <td>2496</td>\n",
              "      <td>[984677.0, 1082185.0, 999971.0, 1110572.0, 883...</td>\n",
              "    </tr>\n",
              "    <tr>\n",
              "      <th>2037</th>\n",
              "      <td>2497</td>\n",
              "      <td>[883404.0, 879755.0, 844165.0, 8090521.0, 1005...</td>\n",
              "    </tr>\n",
              "    <tr>\n",
              "      <th>2038</th>\n",
              "      <td>2498</td>\n",
              "      <td>[1092026.0, 1082185.0, 1110572.0, 986912.0, 10...</td>\n",
              "    </tr>\n",
              "    <tr>\n",
              "      <th>2039</th>\n",
              "      <td>2499</td>\n",
              "      <td>[883404.0, 999971.0, 1082185.0, 1110572.0, 109...</td>\n",
              "    </tr>\n",
              "    <tr>\n",
              "      <th>2040</th>\n",
              "      <td>2500</td>\n",
              "      <td>[1110572.0, 1133018.0, 1097001.0, 995242.0, 10...</td>\n",
              "    </tr>\n",
              "  </tbody>\n",
              "</table>\n",
              "<p>2041 rows × 2 columns</p>\n",
              "</div>"
            ],
            "text/plain": [
              "      user_id                                               lgbm\n",
              "0           1  [1104349.0, 1005186.0, 1082185.0, 8090521.0, 9...\n",
              "1           3  [883404.0, 1092026.0, 879755.0, 1133018.0, 809...\n",
              "2           6  [883404.0, 879755.0, 839849.0, 995242.0, 11330...\n",
              "3           7  [1092026.0, 1110572.0, 1082185.0, 8090521.0, 9...\n",
              "4           8  [883404.0, 839849.0, 844165.0, 1082185.0, 1005...\n",
              "...       ...                                                ...\n",
              "2036     2496  [984677.0, 1082185.0, 999971.0, 1110572.0, 883...\n",
              "2037     2497  [883404.0, 879755.0, 844165.0, 8090521.0, 1005...\n",
              "2038     2498  [1092026.0, 1082185.0, 1110572.0, 986912.0, 10...\n",
              "2039     2499  [883404.0, 999971.0, 1082185.0, 1110572.0, 109...\n",
              "2040     2500  [1110572.0, 1133018.0, 1097001.0, 995242.0, 10...\n",
              "\n",
              "[2041 rows x 2 columns]"
            ]
          },
          "metadata": {},
          "execution_count": 51
        }
      ]
    },
    {
      "cell_type": "code",
      "metadata": {
        "colab": {
          "base_uri": "https://localhost:8080/"
        },
        "id": "I9SUpgYVIMMQ",
        "outputId": "9cfb5285-21bb-4a94-e631-a5087a88cb84"
      },
      "source": [
        "map_k(test_lvl_2['lgbm'], test['actual'])"
      ],
      "execution_count": 52,
      "outputs": [
        {
          "output_type": "execute_result",
          "data": {
            "text/plain": [
              "0.1015331536828352"
            ]
          },
          "metadata": {},
          "execution_count": 52
        }
      ]
    },
    {
      "cell_type": "markdown",
      "metadata": {
        "id": "U_BGBPKgJ_ek"
      },
      "source": [
        "Наиболее оптимальным оказался метод Итем итем рекомендации с один соседем."
      ]
    },
    {
      "cell_type": "markdown",
      "metadata": {
        "id": "PXGL-0tCyz8c"
      },
      "source": [
        "###Создание рекомендаций"
      ]
    },
    {
      "cell_type": "code",
      "metadata": {
        "colab": {
          "base_uri": "https://localhost:8080/",
          "height": 112
        },
        "id": "PNp9qvr-rOpJ",
        "outputId": "314451b8-42a0-4b05-aa03-f96eb2c5bce2"
      },
      "source": [
        "result = data.groupby('user_id')['item_id'].unique().reset_index()\n",
        "result.columns=['user_id', 'actual']\n",
        "result.head(2)"
      ],
      "execution_count": 54,
      "outputs": [
        {
          "output_type": "execute_result",
          "data": {
            "text/html": [
              "<div>\n",
              "<style scoped>\n",
              "    .dataframe tbody tr th:only-of-type {\n",
              "        vertical-align: middle;\n",
              "    }\n",
              "\n",
              "    .dataframe tbody tr th {\n",
              "        vertical-align: top;\n",
              "    }\n",
              "\n",
              "    .dataframe thead th {\n",
              "        text-align: right;\n",
              "    }\n",
              "</style>\n",
              "<table border=\"1\" class=\"dataframe\">\n",
              "  <thead>\n",
              "    <tr style=\"text-align: right;\">\n",
              "      <th></th>\n",
              "      <th>user_id</th>\n",
              "      <th>actual</th>\n",
              "    </tr>\n",
              "  </thead>\n",
              "  <tbody>\n",
              "    <tr>\n",
              "      <th>0</th>\n",
              "      <td>1</td>\n",
              "      <td>[825123, 831447, 840361, 845307, 852014, 85498...</td>\n",
              "    </tr>\n",
              "    <tr>\n",
              "      <th>1</th>\n",
              "      <td>2</td>\n",
              "      <td>[854852, 930118, 1077555, 1098066, 5567388, 55...</td>\n",
              "    </tr>\n",
              "  </tbody>\n",
              "</table>\n",
              "</div>"
            ],
            "text/plain": [
              "   user_id                                             actual\n",
              "0        1  [825123, 831447, 840361, 845307, 852014, 85498...\n",
              "1        2  [854852, 930118, 1077555, 1098066, 5567388, 55..."
            ]
          },
          "metadata": {},
          "execution_count": 54
        }
      ]
    },
    {
      "cell_type": "code",
      "metadata": {
        "id": "3KLbnR91twrW"
      },
      "source": [
        "user_item_matrix = pd.pivot_table(data, \n",
        "                                  index='user_id', columns='item_id', \n",
        "                                  values='quantity', # Можно пробоват ьдругие варианты\n",
        "                                  aggfunc='count', \n",
        "                                  fill_value=0\n",
        "                                 )\n",
        "\n",
        "user_item_matrix = user_item_matrix.astype(float) # необходимый тип матрицы для implicit\n",
        "\n",
        "# переведем в формат saprse matrix\n",
        "sparse_user_item = csr_matrix(user_item_matrix).tocsr()"
      ],
      "execution_count": 55,
      "outputs": []
    },
    {
      "cell_type": "code",
      "metadata": {
        "id": "Ku-D9-cQuDE6"
      },
      "source": [
        "userids = user_item_matrix.index.values\n",
        "itemids = user_item_matrix.columns.values\n",
        "\n",
        "matrix_userids = np.arange(len(userids))\n",
        "matrix_itemids = np.arange(len(itemids))\n",
        "\n",
        "id_to_itemid = dict(zip(matrix_itemids, itemids))\n",
        "id_to_userid = dict(zip(matrix_userids, userids))\n",
        "\n",
        "itemid_to_id = dict(zip(itemids, matrix_itemids))\n",
        "userid_to_id = dict(zip(userids, matrix_userids))"
      ],
      "execution_count": 56,
      "outputs": []
    },
    {
      "cell_type": "code",
      "metadata": {
        "colab": {
          "base_uri": "https://localhost:8080/",
          "height": 49,
          "referenced_widgets": [
            "5f1dcb54eef2490083d214402f58fa76",
            "81c25d497e9740cd87f871a8bd6aa17b",
            "29efa822bb2c4bb6a73042cf8f94d7d3",
            "56ebd72a6f6f4940987fdecaf31cf62e",
            "09f51baeb3074b4aa14bec4b40f42e65",
            "28e70a7e68864f469369b31de03ea133",
            "84048e040d8246d4b804b96e3cb61211",
            "784f27b121044c5a9135e5d1478382e4",
            "2422114623a94bd2801e87e1b2b6e292",
            "f816245a2fee4119a342e98ce2d1ec27",
            "bff691f3940349e490c641cca791a90b"
          ]
        },
        "id": "SFTK8C93uDMj",
        "outputId": "9fa5b727-0f63-4cde-e4fc-883ddac20f0c"
      },
      "source": [
        "final_model = ItemItemRecommender(K=1, num_threads=4) # K - кол-во билжайших соседей\n",
        "\n",
        "final_model.fit(csr_matrix(user_item_matrix).T.tocsr(), \n",
        "          show_progress=True)"
      ],
      "execution_count": 57,
      "outputs": [
        {
          "output_type": "display_data",
          "data": {
            "application/vnd.jupyter.widget-view+json": {
              "model_id": "5f1dcb54eef2490083d214402f58fa76",
              "version_minor": 0,
              "version_major": 2
            },
            "text/plain": [
              "  0%|          | 0/89051 [00:00<?, ?it/s]"
            ]
          },
          "metadata": {}
        }
      ]
    },
    {
      "cell_type": "code",
      "metadata": {
        "colab": {
          "base_uri": "https://localhost:8080/",
          "height": 112
        },
        "id": "RgjIc0G7uDPs",
        "outputId": "61d65ba6-ddb2-4502-c64a-73a245b717d6"
      },
      "source": [
        "result['recomendations'] = result['user_id'].apply(lambda x: get_recommendations(x, model=final_model, N=5))\n",
        "result.head(2)"
      ],
      "execution_count": 58,
      "outputs": [
        {
          "output_type": "execute_result",
          "data": {
            "text/html": [
              "<div>\n",
              "<style scoped>\n",
              "    .dataframe tbody tr th:only-of-type {\n",
              "        vertical-align: middle;\n",
              "    }\n",
              "\n",
              "    .dataframe tbody tr th {\n",
              "        vertical-align: top;\n",
              "    }\n",
              "\n",
              "    .dataframe thead th {\n",
              "        text-align: right;\n",
              "    }\n",
              "</style>\n",
              "<table border=\"1\" class=\"dataframe\">\n",
              "  <thead>\n",
              "    <tr style=\"text-align: right;\">\n",
              "      <th></th>\n",
              "      <th>user_id</th>\n",
              "      <th>actual</th>\n",
              "      <th>recomendations</th>\n",
              "    </tr>\n",
              "  </thead>\n",
              "  <tbody>\n",
              "    <tr>\n",
              "      <th>0</th>\n",
              "      <td>1</td>\n",
              "      <td>[825123, 831447, 840361, 845307, 852014, 85498...</td>\n",
              "      <td>[1082185, 995242, 1029743, 1005186, 6534178]</td>\n",
              "    </tr>\n",
              "    <tr>\n",
              "      <th>1</th>\n",
              "      <td>2</td>\n",
              "      <td>[854852, 930118, 1077555, 1098066, 5567388, 55...</td>\n",
              "      <td>[1082185, 1106523, 1133018, 951590, 5569230]</td>\n",
              "    </tr>\n",
              "  </tbody>\n",
              "</table>\n",
              "</div>"
            ],
            "text/plain": [
              "   user_id  ...                                recomendations\n",
              "0        1  ...  [1082185, 995242, 1029743, 1005186, 6534178]\n",
              "1        2  ...  [1082185, 1106523, 1133018, 951590, 5569230]\n",
              "\n",
              "[2 rows x 3 columns]"
            ]
          },
          "metadata": {},
          "execution_count": 58
        }
      ]
    },
    {
      "cell_type": "code",
      "metadata": {
        "colab": {
          "base_uri": "https://localhost:8080/",
          "height": 112
        },
        "id": "dCsuV7LZuDSr",
        "outputId": "097358a1-9538-44d2-acb4-6f7934545eb8"
      },
      "source": [
        "user_2325 = {'user_id': 2325, 'actual': [], 'recomendations': []}\n",
        "result = result.append(user_2325, ignore_index = True)\n",
        "result = result.sort_values(by=['user_id']).reset_index(drop= True)\n",
        "result.head(2)"
      ],
      "execution_count": 59,
      "outputs": [
        {
          "output_type": "execute_result",
          "data": {
            "text/html": [
              "<div>\n",
              "<style scoped>\n",
              "    .dataframe tbody tr th:only-of-type {\n",
              "        vertical-align: middle;\n",
              "    }\n",
              "\n",
              "    .dataframe tbody tr th {\n",
              "        vertical-align: top;\n",
              "    }\n",
              "\n",
              "    .dataframe thead th {\n",
              "        text-align: right;\n",
              "    }\n",
              "</style>\n",
              "<table border=\"1\" class=\"dataframe\">\n",
              "  <thead>\n",
              "    <tr style=\"text-align: right;\">\n",
              "      <th></th>\n",
              "      <th>user_id</th>\n",
              "      <th>actual</th>\n",
              "      <th>recomendations</th>\n",
              "    </tr>\n",
              "  </thead>\n",
              "  <tbody>\n",
              "    <tr>\n",
              "      <th>0</th>\n",
              "      <td>1</td>\n",
              "      <td>[825123, 831447, 840361, 845307, 852014, 85498...</td>\n",
              "      <td>[1082185, 995242, 1029743, 1005186, 6534178]</td>\n",
              "    </tr>\n",
              "    <tr>\n",
              "      <th>1</th>\n",
              "      <td>2</td>\n",
              "      <td>[854852, 930118, 1077555, 1098066, 5567388, 55...</td>\n",
              "      <td>[1082185, 1106523, 1133018, 951590, 5569230]</td>\n",
              "    </tr>\n",
              "  </tbody>\n",
              "</table>\n",
              "</div>"
            ],
            "text/plain": [
              "   user_id  ...                                recomendations\n",
              "0        1  ...  [1082185, 995242, 1029743, 1005186, 6534178]\n",
              "1        2  ...  [1082185, 1106523, 1133018, 951590, 5569230]\n",
              "\n",
              "[2 rows x 3 columns]"
            ]
          },
          "metadata": {},
          "execution_count": 59
        }
      ]
    },
    {
      "cell_type": "code",
      "metadata": {
        "colab": {
          "base_uri": "https://localhost:8080/"
        },
        "id": "eigWSxn57q7h",
        "outputId": "b4ba1447-410a-42c1-83c7-71feda246cba"
      },
      "source": [
        "popular_itm = popularity_recommendation(data, n=5)\n",
        "popular_itm"
      ],
      "execution_count": 60,
      "outputs": [
        {
          "output_type": "execute_result",
          "data": {
            "text/plain": [
              "[6534178, 6533889, 1029743, 6534166, 1082185]"
            ]
          },
          "metadata": {},
          "execution_count": 60
        }
      ]
    },
    {
      "cell_type": "code",
      "metadata": {
        "id": "OrDOEUDE17ro"
      },
      "source": [
        "def extend_with_top_popular(recommendations, pop_list, N=5):\n",
        "    \"\"\"Если кол-во рекоммендаций < N, то дополняем их топ-популярными\"\"\"\n",
        "\n",
        "    if len(recommendations) < N:\n",
        "        unique_top_purchases = list(set(pop_list) - set(recommendations))\n",
        "        recommendations.extend(unique_top_purchases[:N])\n",
        "        recommendations = recommendations[:N]\n",
        "\n",
        "    return recommendations"
      ],
      "execution_count": 61,
      "outputs": []
    },
    {
      "cell_type": "code",
      "metadata": {
        "colab": {
          "base_uri": "https://localhost:8080/",
          "height": 112
        },
        "id": "jKGfZnu4uDWm",
        "outputId": "e231ca4d-d0d7-4c43-f3f3-94cc331f0de7"
      },
      "source": [
        "result['recomendations'] = result['recomendations'].apply(lambda x: extend_with_top_popular(x, popular_itm,  N=5))\n",
        "result.head(2)"
      ],
      "execution_count": 62,
      "outputs": [
        {
          "output_type": "execute_result",
          "data": {
            "text/html": [
              "<div>\n",
              "<style scoped>\n",
              "    .dataframe tbody tr th:only-of-type {\n",
              "        vertical-align: middle;\n",
              "    }\n",
              "\n",
              "    .dataframe tbody tr th {\n",
              "        vertical-align: top;\n",
              "    }\n",
              "\n",
              "    .dataframe thead th {\n",
              "        text-align: right;\n",
              "    }\n",
              "</style>\n",
              "<table border=\"1\" class=\"dataframe\">\n",
              "  <thead>\n",
              "    <tr style=\"text-align: right;\">\n",
              "      <th></th>\n",
              "      <th>user_id</th>\n",
              "      <th>actual</th>\n",
              "      <th>recomendations</th>\n",
              "    </tr>\n",
              "  </thead>\n",
              "  <tbody>\n",
              "    <tr>\n",
              "      <th>0</th>\n",
              "      <td>1</td>\n",
              "      <td>[825123, 831447, 840361, 845307, 852014, 85498...</td>\n",
              "      <td>[1082185, 995242, 1029743, 1005186, 6534178]</td>\n",
              "    </tr>\n",
              "    <tr>\n",
              "      <th>1</th>\n",
              "      <td>2</td>\n",
              "      <td>[854852, 930118, 1077555, 1098066, 5567388, 55...</td>\n",
              "      <td>[1082185, 1106523, 1133018, 951590, 5569230]</td>\n",
              "    </tr>\n",
              "  </tbody>\n",
              "</table>\n",
              "</div>"
            ],
            "text/plain": [
              "   user_id  ...                                recomendations\n",
              "0        1  ...  [1082185, 995242, 1029743, 1005186, 6534178]\n",
              "1        2  ...  [1082185, 1106523, 1133018, 951590, 5569230]\n",
              "\n",
              "[2 rows x 3 columns]"
            ]
          },
          "metadata": {},
          "execution_count": 62
        }
      ]
    },
    {
      "cell_type": "code",
      "metadata": {
        "id": "TOAe9AUj-oUy",
        "colab": {
          "base_uri": "https://localhost:8080/",
          "height": 81
        },
        "outputId": "87d78b34-3b89-4405-b61c-cd1267de7ce4"
      },
      "source": [
        "result[result['user_id']== 2325]"
      ],
      "execution_count": 63,
      "outputs": [
        {
          "output_type": "execute_result",
          "data": {
            "text/html": [
              "<div>\n",
              "<style scoped>\n",
              "    .dataframe tbody tr th:only-of-type {\n",
              "        vertical-align: middle;\n",
              "    }\n",
              "\n",
              "    .dataframe tbody tr th {\n",
              "        vertical-align: top;\n",
              "    }\n",
              "\n",
              "    .dataframe thead th {\n",
              "        text-align: right;\n",
              "    }\n",
              "</style>\n",
              "<table border=\"1\" class=\"dataframe\">\n",
              "  <thead>\n",
              "    <tr style=\"text-align: right;\">\n",
              "      <th></th>\n",
              "      <th>user_id</th>\n",
              "      <th>actual</th>\n",
              "      <th>recomendations</th>\n",
              "    </tr>\n",
              "  </thead>\n",
              "  <tbody>\n",
              "    <tr>\n",
              "      <th>2324</th>\n",
              "      <td>2325</td>\n",
              "      <td>[]</td>\n",
              "      <td>[6533889, 6534178, 6534166, 1082185, 1029743]</td>\n",
              "    </tr>\n",
              "  </tbody>\n",
              "</table>\n",
              "</div>"
            ],
            "text/plain": [
              "      user_id actual                                 recomendations\n",
              "2324     2325     []  [6533889, 6534178, 6534166, 1082185, 1029743]"
            ]
          },
          "metadata": {},
          "execution_count": 63
        }
      ]
    },
    {
      "cell_type": "markdown",
      "metadata": {
        "id": "zhJM2DrJHcLj"
      },
      "source": [
        "Подготовим рекомендации"
      ]
    },
    {
      "cell_type": "code",
      "metadata": {
        "id": "Q_vwmUO8Hbh5"
      },
      "source": [
        "result = result.drop(columns='actual')"
      ],
      "execution_count": 64,
      "outputs": []
    },
    {
      "cell_type": "code",
      "metadata": {
        "id": "wGzsrn-yHyZo",
        "colab": {
          "base_uri": "https://localhost:8080/",
          "height": 424
        },
        "outputId": "e81f66ef-8462-4166-b6fe-3602a23c9867"
      },
      "source": [
        "result.rename(columns={'user_id': 'UserId'}, inplace=True)\n",
        "result.rename(columns={'recomendations': 'Predicted'}, inplace=True)\n",
        "\n",
        "result\n"
      ],
      "execution_count": 65,
      "outputs": [
        {
          "output_type": "execute_result",
          "data": {
            "text/html": [
              "<div>\n",
              "<style scoped>\n",
              "    .dataframe tbody tr th:only-of-type {\n",
              "        vertical-align: middle;\n",
              "    }\n",
              "\n",
              "    .dataframe tbody tr th {\n",
              "        vertical-align: top;\n",
              "    }\n",
              "\n",
              "    .dataframe thead th {\n",
              "        text-align: right;\n",
              "    }\n",
              "</style>\n",
              "<table border=\"1\" class=\"dataframe\">\n",
              "  <thead>\n",
              "    <tr style=\"text-align: right;\">\n",
              "      <th></th>\n",
              "      <th>UserId</th>\n",
              "      <th>Predicted</th>\n",
              "    </tr>\n",
              "  </thead>\n",
              "  <tbody>\n",
              "    <tr>\n",
              "      <th>0</th>\n",
              "      <td>1</td>\n",
              "      <td>[1082185, 995242, 1029743, 1005186, 6534178]</td>\n",
              "    </tr>\n",
              "    <tr>\n",
              "      <th>1</th>\n",
              "      <td>2</td>\n",
              "      <td>[1082185, 1106523, 1133018, 951590, 5569230]</td>\n",
              "    </tr>\n",
              "    <tr>\n",
              "      <th>2</th>\n",
              "      <td>3</td>\n",
              "      <td>[1082185, 1106523, 951590, 1053690, 6534178]</td>\n",
              "    </tr>\n",
              "    <tr>\n",
              "      <th>3</th>\n",
              "      <td>4</td>\n",
              "      <td>[1082185, 1029743, 962229, 883404, 1075368]</td>\n",
              "    </tr>\n",
              "    <tr>\n",
              "      <th>4</th>\n",
              "      <td>5</td>\n",
              "      <td>[1082185, 1029743, 1126899, 6534178, 1138292]</td>\n",
              "    </tr>\n",
              "    <tr>\n",
              "      <th>...</th>\n",
              "      <td>...</td>\n",
              "      <td>...</td>\n",
              "    </tr>\n",
              "    <tr>\n",
              "      <th>2495</th>\n",
              "      <td>2496</td>\n",
              "      <td>[1082185, 6534178, 1106523, 883404, 5569230]</td>\n",
              "    </tr>\n",
              "    <tr>\n",
              "      <th>2496</th>\n",
              "      <td>2497</td>\n",
              "      <td>[1082185, 1029743, 6534178, 995242, 951590]</td>\n",
              "    </tr>\n",
              "    <tr>\n",
              "      <th>2497</th>\n",
              "      <td>2498</td>\n",
              "      <td>[1082185, 1070820, 1106523, 1126899, 1053690]</td>\n",
              "    </tr>\n",
              "    <tr>\n",
              "      <th>2498</th>\n",
              "      <td>2499</td>\n",
              "      <td>[1082185, 6534178, 1070820, 1085604, 883404]</td>\n",
              "    </tr>\n",
              "    <tr>\n",
              "      <th>2499</th>\n",
              "      <td>2500</td>\n",
              "      <td>[1082185, 6534178, 995242, 1029743, 1126899]</td>\n",
              "    </tr>\n",
              "  </tbody>\n",
              "</table>\n",
              "<p>2500 rows × 2 columns</p>\n",
              "</div>"
            ],
            "text/plain": [
              "      UserId                                      Predicted\n",
              "0          1   [1082185, 995242, 1029743, 1005186, 6534178]\n",
              "1          2   [1082185, 1106523, 1133018, 951590, 5569230]\n",
              "2          3   [1082185, 1106523, 951590, 1053690, 6534178]\n",
              "3          4    [1082185, 1029743, 962229, 883404, 1075368]\n",
              "4          5  [1082185, 1029743, 1126899, 6534178, 1138292]\n",
              "...      ...                                            ...\n",
              "2495    2496   [1082185, 6534178, 1106523, 883404, 5569230]\n",
              "2496    2497    [1082185, 1029743, 6534178, 995242, 951590]\n",
              "2497    2498  [1082185, 1070820, 1106523, 1126899, 1053690]\n",
              "2498    2499   [1082185, 6534178, 1070820, 1085604, 883404]\n",
              "2499    2500   [1082185, 6534178, 995242, 1029743, 1126899]\n",
              "\n",
              "[2500 rows x 2 columns]"
            ]
          },
          "metadata": {},
          "execution_count": 65
        }
      ]
    },
    {
      "cell_type": "code",
      "metadata": {
        "id": "5-tB2WsZJyCJ"
      },
      "source": [
        "for i in result['UserId']:\n",
        "  if i not in user_list:\n",
        "    result = result.drop(index=(i-1))"
      ],
      "execution_count": 66,
      "outputs": []
    },
    {
      "cell_type": "code",
      "metadata": {
        "id": "JQtO-14tQH9a",
        "colab": {
          "base_uri": "https://localhost:8080/",
          "height": 424
        },
        "outputId": "9649171b-b2f3-4b47-c676-83579a20bf8f"
      },
      "source": [
        "result['Predicted']= result['Predicted'].apply(lambda x: str(x[0])+' '+str(x[1])+' '+str(x[2])+' '+str(x[3])+' '+str(x[4]))\n",
        "result"
      ],
      "execution_count": 67,
      "outputs": [
        {
          "output_type": "execute_result",
          "data": {
            "text/html": [
              "<div>\n",
              "<style scoped>\n",
              "    .dataframe tbody tr th:only-of-type {\n",
              "        vertical-align: middle;\n",
              "    }\n",
              "\n",
              "    .dataframe tbody tr th {\n",
              "        vertical-align: top;\n",
              "    }\n",
              "\n",
              "    .dataframe thead th {\n",
              "        text-align: right;\n",
              "    }\n",
              "</style>\n",
              "<table border=\"1\" class=\"dataframe\">\n",
              "  <thead>\n",
              "    <tr style=\"text-align: right;\">\n",
              "      <th></th>\n",
              "      <th>UserId</th>\n",
              "      <th>Predicted</th>\n",
              "    </tr>\n",
              "  </thead>\n",
              "  <tbody>\n",
              "    <tr>\n",
              "      <th>0</th>\n",
              "      <td>1</td>\n",
              "      <td>1082185 995242 1029743 1005186 6534178</td>\n",
              "    </tr>\n",
              "    <tr>\n",
              "      <th>1</th>\n",
              "      <td>2</td>\n",
              "      <td>1082185 1106523 1133018 951590 5569230</td>\n",
              "    </tr>\n",
              "    <tr>\n",
              "      <th>2</th>\n",
              "      <td>3</td>\n",
              "      <td>1082185 1106523 951590 1053690 6534178</td>\n",
              "    </tr>\n",
              "    <tr>\n",
              "      <th>5</th>\n",
              "      <td>6</td>\n",
              "      <td>1082185 6534178 1029743 995242 5569230</td>\n",
              "    </tr>\n",
              "    <tr>\n",
              "      <th>6</th>\n",
              "      <td>7</td>\n",
              "      <td>1082185 1106523 1029743 1126899 1133018</td>\n",
              "    </tr>\n",
              "    <tr>\n",
              "      <th>...</th>\n",
              "      <td>...</td>\n",
              "      <td>...</td>\n",
              "    </tr>\n",
              "    <tr>\n",
              "      <th>2493</th>\n",
              "      <td>2494</td>\n",
              "      <td>1082185 6534178 1029743 1070820 1053690</td>\n",
              "    </tr>\n",
              "    <tr>\n",
              "      <th>2495</th>\n",
              "      <td>2496</td>\n",
              "      <td>1082185 6534178 1106523 883404 5569230</td>\n",
              "    </tr>\n",
              "    <tr>\n",
              "      <th>2497</th>\n",
              "      <td>2498</td>\n",
              "      <td>1082185 1070820 1106523 1126899 1053690</td>\n",
              "    </tr>\n",
              "    <tr>\n",
              "      <th>2498</th>\n",
              "      <td>2499</td>\n",
              "      <td>1082185 6534178 1070820 1085604 883404</td>\n",
              "    </tr>\n",
              "    <tr>\n",
              "      <th>2499</th>\n",
              "      <td>2500</td>\n",
              "      <td>1082185 6534178 995242 1029743 1126899</td>\n",
              "    </tr>\n",
              "  </tbody>\n",
              "</table>\n",
              "<p>1708 rows × 2 columns</p>\n",
              "</div>"
            ],
            "text/plain": [
              "      UserId                                Predicted\n",
              "0          1   1082185 995242 1029743 1005186 6534178\n",
              "1          2   1082185 1106523 1133018 951590 5569230\n",
              "2          3   1082185 1106523 951590 1053690 6534178\n",
              "5          6   1082185 6534178 1029743 995242 5569230\n",
              "6          7  1082185 1106523 1029743 1126899 1133018\n",
              "...      ...                                      ...\n",
              "2493    2494  1082185 6534178 1029743 1070820 1053690\n",
              "2495    2496   1082185 6534178 1106523 883404 5569230\n",
              "2497    2498  1082185 1070820 1106523 1126899 1053690\n",
              "2498    2499   1082185 6534178 1070820 1085604 883404\n",
              "2499    2500   1082185 6534178 995242 1029743 1126899\n",
              "\n",
              "[1708 rows x 2 columns]"
            ]
          },
          "metadata": {},
          "execution_count": 67
        }
      ]
    },
    {
      "cell_type": "code",
      "metadata": {
        "id": "Znrw4L9ZCYAK"
      },
      "source": [
        "result.to_csv('/content/drive/MyDrive/result.csv', index=False)"
      ],
      "execution_count": 68,
      "outputs": []
    }
  ]
}