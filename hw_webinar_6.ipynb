{
  "nbformat": 4,
  "nbformat_minor": 0,
  "metadata": {
    "colab": {
      "name": "hw_webinar_6.ipynb",
      "provenance": [],
      "collapsed_sections": []
    },
    "kernelspec": {
      "display_name": "Python 3",
      "language": "python",
      "name": "python3"
    },
    "language_info": {
      "codemirror_mode": {
        "name": "ipython",
        "version": 3
      },
      "file_extension": ".py",
      "mimetype": "text/x-python",
      "name": "python",
      "nbconvert_exporter": "python",
      "pygments_lexer": "ipython3",
      "version": "3.8.8"
    },
    "widgets": {
      "application/vnd.jupyter.widget-state+json": {
        "ce7dce20a32a4fe9981977d7bf97f37f": {
          "model_module": "@jupyter-widgets/controls",
          "model_name": "HBoxModel",
          "model_module_version": "1.5.0",
          "state": {
            "_view_name": "HBoxView",
            "_dom_classes": [],
            "_model_name": "HBoxModel",
            "_view_module": "@jupyter-widgets/controls",
            "_model_module_version": "1.5.0",
            "_view_count": null,
            "_view_module_version": "1.5.0",
            "box_style": "",
            "layout": "IPY_MODEL_a31162ea1bf2426988a6d7349fea6edb",
            "_model_module": "@jupyter-widgets/controls",
            "children": [
              "IPY_MODEL_2151586416ff4bec80e6c1b937563425",
              "IPY_MODEL_c4be3cb47c034c5da23f4640f671d16f",
              "IPY_MODEL_22fb2b99c94a47eb85e627eb94065646"
            ]
          }
        },
        "a31162ea1bf2426988a6d7349fea6edb": {
          "model_module": "@jupyter-widgets/base",
          "model_name": "LayoutModel",
          "model_module_version": "1.2.0",
          "state": {
            "_view_name": "LayoutView",
            "grid_template_rows": null,
            "right": null,
            "justify_content": null,
            "_view_module": "@jupyter-widgets/base",
            "overflow": null,
            "_model_module_version": "1.2.0",
            "_view_count": null,
            "flex_flow": null,
            "width": null,
            "min_width": null,
            "border": null,
            "align_items": null,
            "bottom": null,
            "_model_module": "@jupyter-widgets/base",
            "top": null,
            "grid_column": null,
            "overflow_y": null,
            "overflow_x": null,
            "grid_auto_flow": null,
            "grid_area": null,
            "grid_template_columns": null,
            "flex": null,
            "_model_name": "LayoutModel",
            "justify_items": null,
            "grid_row": null,
            "max_height": null,
            "align_content": null,
            "visibility": null,
            "align_self": null,
            "height": null,
            "min_height": null,
            "padding": null,
            "grid_auto_rows": null,
            "grid_gap": null,
            "max_width": null,
            "order": null,
            "_view_module_version": "1.2.0",
            "grid_template_areas": null,
            "object_position": null,
            "object_fit": null,
            "grid_auto_columns": null,
            "margin": null,
            "display": null,
            "left": null
          }
        },
        "2151586416ff4bec80e6c1b937563425": {
          "model_module": "@jupyter-widgets/controls",
          "model_name": "HTMLModel",
          "model_module_version": "1.5.0",
          "state": {
            "_view_name": "HTMLView",
            "style": "IPY_MODEL_cb48de25846a48deaaf09767d743ae08",
            "_dom_classes": [],
            "description": "",
            "_model_name": "HTMLModel",
            "placeholder": "​",
            "_view_module": "@jupyter-widgets/controls",
            "_model_module_version": "1.5.0",
            "value": "100%",
            "_view_count": null,
            "_view_module_version": "1.5.0",
            "description_tooltip": null,
            "_model_module": "@jupyter-widgets/controls",
            "layout": "IPY_MODEL_a4b30d77ffee40018eb4410640a49e57"
          }
        },
        "c4be3cb47c034c5da23f4640f671d16f": {
          "model_module": "@jupyter-widgets/controls",
          "model_name": "FloatProgressModel",
          "model_module_version": "1.5.0",
          "state": {
            "_view_name": "ProgressView",
            "style": "IPY_MODEL_662b7e7f4ec1485cabeac614f2ec868b",
            "_dom_classes": [],
            "description": "",
            "_model_name": "FloatProgressModel",
            "bar_style": "success",
            "max": 15,
            "_view_module": "@jupyter-widgets/controls",
            "_model_module_version": "1.5.0",
            "value": 15,
            "_view_count": null,
            "_view_module_version": "1.5.0",
            "orientation": "horizontal",
            "min": 0,
            "description_tooltip": null,
            "_model_module": "@jupyter-widgets/controls",
            "layout": "IPY_MODEL_87f1ed79af0f46eab68c909136f4a887"
          }
        },
        "22fb2b99c94a47eb85e627eb94065646": {
          "model_module": "@jupyter-widgets/controls",
          "model_name": "HTMLModel",
          "model_module_version": "1.5.0",
          "state": {
            "_view_name": "HTMLView",
            "style": "IPY_MODEL_0bf001d26fd84941bdc506698cdc8dce",
            "_dom_classes": [],
            "description": "",
            "_model_name": "HTMLModel",
            "placeholder": "​",
            "_view_module": "@jupyter-widgets/controls",
            "_model_module_version": "1.5.0",
            "value": " 15/15 [00:11&lt;00:00,  1.40it/s]",
            "_view_count": null,
            "_view_module_version": "1.5.0",
            "description_tooltip": null,
            "_model_module": "@jupyter-widgets/controls",
            "layout": "IPY_MODEL_f0aaed1fd3b74e309891026f9f8b9093"
          }
        },
        "cb48de25846a48deaaf09767d743ae08": {
          "model_module": "@jupyter-widgets/controls",
          "model_name": "DescriptionStyleModel",
          "model_module_version": "1.5.0",
          "state": {
            "_view_name": "StyleView",
            "_model_name": "DescriptionStyleModel",
            "description_width": "",
            "_view_module": "@jupyter-widgets/base",
            "_model_module_version": "1.5.0",
            "_view_count": null,
            "_view_module_version": "1.2.0",
            "_model_module": "@jupyter-widgets/controls"
          }
        },
        "a4b30d77ffee40018eb4410640a49e57": {
          "model_module": "@jupyter-widgets/base",
          "model_name": "LayoutModel",
          "model_module_version": "1.2.0",
          "state": {
            "_view_name": "LayoutView",
            "grid_template_rows": null,
            "right": null,
            "justify_content": null,
            "_view_module": "@jupyter-widgets/base",
            "overflow": null,
            "_model_module_version": "1.2.0",
            "_view_count": null,
            "flex_flow": null,
            "width": null,
            "min_width": null,
            "border": null,
            "align_items": null,
            "bottom": null,
            "_model_module": "@jupyter-widgets/base",
            "top": null,
            "grid_column": null,
            "overflow_y": null,
            "overflow_x": null,
            "grid_auto_flow": null,
            "grid_area": null,
            "grid_template_columns": null,
            "flex": null,
            "_model_name": "LayoutModel",
            "justify_items": null,
            "grid_row": null,
            "max_height": null,
            "align_content": null,
            "visibility": null,
            "align_self": null,
            "height": null,
            "min_height": null,
            "padding": null,
            "grid_auto_rows": null,
            "grid_gap": null,
            "max_width": null,
            "order": null,
            "_view_module_version": "1.2.0",
            "grid_template_areas": null,
            "object_position": null,
            "object_fit": null,
            "grid_auto_columns": null,
            "margin": null,
            "display": null,
            "left": null
          }
        },
        "662b7e7f4ec1485cabeac614f2ec868b": {
          "model_module": "@jupyter-widgets/controls",
          "model_name": "ProgressStyleModel",
          "model_module_version": "1.5.0",
          "state": {
            "_view_name": "StyleView",
            "_model_name": "ProgressStyleModel",
            "description_width": "",
            "_view_module": "@jupyter-widgets/base",
            "_model_module_version": "1.5.0",
            "_view_count": null,
            "_view_module_version": "1.2.0",
            "bar_color": null,
            "_model_module": "@jupyter-widgets/controls"
          }
        },
        "87f1ed79af0f46eab68c909136f4a887": {
          "model_module": "@jupyter-widgets/base",
          "model_name": "LayoutModel",
          "model_module_version": "1.2.0",
          "state": {
            "_view_name": "LayoutView",
            "grid_template_rows": null,
            "right": null,
            "justify_content": null,
            "_view_module": "@jupyter-widgets/base",
            "overflow": null,
            "_model_module_version": "1.2.0",
            "_view_count": null,
            "flex_flow": null,
            "width": null,
            "min_width": null,
            "border": null,
            "align_items": null,
            "bottom": null,
            "_model_module": "@jupyter-widgets/base",
            "top": null,
            "grid_column": null,
            "overflow_y": null,
            "overflow_x": null,
            "grid_auto_flow": null,
            "grid_area": null,
            "grid_template_columns": null,
            "flex": null,
            "_model_name": "LayoutModel",
            "justify_items": null,
            "grid_row": null,
            "max_height": null,
            "align_content": null,
            "visibility": null,
            "align_self": null,
            "height": null,
            "min_height": null,
            "padding": null,
            "grid_auto_rows": null,
            "grid_gap": null,
            "max_width": null,
            "order": null,
            "_view_module_version": "1.2.0",
            "grid_template_areas": null,
            "object_position": null,
            "object_fit": null,
            "grid_auto_columns": null,
            "margin": null,
            "display": null,
            "left": null
          }
        },
        "0bf001d26fd84941bdc506698cdc8dce": {
          "model_module": "@jupyter-widgets/controls",
          "model_name": "DescriptionStyleModel",
          "model_module_version": "1.5.0",
          "state": {
            "_view_name": "StyleView",
            "_model_name": "DescriptionStyleModel",
            "description_width": "",
            "_view_module": "@jupyter-widgets/base",
            "_model_module_version": "1.5.0",
            "_view_count": null,
            "_view_module_version": "1.2.0",
            "_model_module": "@jupyter-widgets/controls"
          }
        },
        "f0aaed1fd3b74e309891026f9f8b9093": {
          "model_module": "@jupyter-widgets/base",
          "model_name": "LayoutModel",
          "model_module_version": "1.2.0",
          "state": {
            "_view_name": "LayoutView",
            "grid_template_rows": null,
            "right": null,
            "justify_content": null,
            "_view_module": "@jupyter-widgets/base",
            "overflow": null,
            "_model_module_version": "1.2.0",
            "_view_count": null,
            "flex_flow": null,
            "width": null,
            "min_width": null,
            "border": null,
            "align_items": null,
            "bottom": null,
            "_model_module": "@jupyter-widgets/base",
            "top": null,
            "grid_column": null,
            "overflow_y": null,
            "overflow_x": null,
            "grid_auto_flow": null,
            "grid_area": null,
            "grid_template_columns": null,
            "flex": null,
            "_model_name": "LayoutModel",
            "justify_items": null,
            "grid_row": null,
            "max_height": null,
            "align_content": null,
            "visibility": null,
            "align_self": null,
            "height": null,
            "min_height": null,
            "padding": null,
            "grid_auto_rows": null,
            "grid_gap": null,
            "max_width": null,
            "order": null,
            "_view_module_version": "1.2.0",
            "grid_template_areas": null,
            "object_position": null,
            "object_fit": null,
            "grid_auto_columns": null,
            "margin": null,
            "display": null,
            "left": null
          }
        },
        "423d7e04c49347ef838df01a1fd20a27": {
          "model_module": "@jupyter-widgets/controls",
          "model_name": "HBoxModel",
          "model_module_version": "1.5.0",
          "state": {
            "_view_name": "HBoxView",
            "_dom_classes": [],
            "_model_name": "HBoxModel",
            "_view_module": "@jupyter-widgets/controls",
            "_model_module_version": "1.5.0",
            "_view_count": null,
            "_view_module_version": "1.5.0",
            "box_style": "",
            "layout": "IPY_MODEL_a25f668a9adb4c85a28e46916b7c1912",
            "_model_module": "@jupyter-widgets/controls",
            "children": [
              "IPY_MODEL_2bdacffc13464b6489736a631a299081",
              "IPY_MODEL_8af19210f1d34382aadb7ca127933783",
              "IPY_MODEL_55adf2046fe54bffba59e9ed4174cad0"
            ]
          }
        },
        "a25f668a9adb4c85a28e46916b7c1912": {
          "model_module": "@jupyter-widgets/base",
          "model_name": "LayoutModel",
          "model_module_version": "1.2.0",
          "state": {
            "_view_name": "LayoutView",
            "grid_template_rows": null,
            "right": null,
            "justify_content": null,
            "_view_module": "@jupyter-widgets/base",
            "overflow": null,
            "_model_module_version": "1.2.0",
            "_view_count": null,
            "flex_flow": null,
            "width": null,
            "min_width": null,
            "border": null,
            "align_items": null,
            "bottom": null,
            "_model_module": "@jupyter-widgets/base",
            "top": null,
            "grid_column": null,
            "overflow_y": null,
            "overflow_x": null,
            "grid_auto_flow": null,
            "grid_area": null,
            "grid_template_columns": null,
            "flex": null,
            "_model_name": "LayoutModel",
            "justify_items": null,
            "grid_row": null,
            "max_height": null,
            "align_content": null,
            "visibility": null,
            "align_self": null,
            "height": null,
            "min_height": null,
            "padding": null,
            "grid_auto_rows": null,
            "grid_gap": null,
            "max_width": null,
            "order": null,
            "_view_module_version": "1.2.0",
            "grid_template_areas": null,
            "object_position": null,
            "object_fit": null,
            "grid_auto_columns": null,
            "margin": null,
            "display": null,
            "left": null
          }
        },
        "2bdacffc13464b6489736a631a299081": {
          "model_module": "@jupyter-widgets/controls",
          "model_name": "HTMLModel",
          "model_module_version": "1.5.0",
          "state": {
            "_view_name": "HTMLView",
            "style": "IPY_MODEL_be458bc634eb4d1a986117c3e1758123",
            "_dom_classes": [],
            "description": "",
            "_model_name": "HTMLModel",
            "placeholder": "​",
            "_view_module": "@jupyter-widgets/controls",
            "_model_module_version": "1.5.0",
            "value": "100%",
            "_view_count": null,
            "_view_module_version": "1.5.0",
            "description_tooltip": null,
            "_model_module": "@jupyter-widgets/controls",
            "layout": "IPY_MODEL_574eaea208dd4b2ca2efe27a55e1a3a9"
          }
        },
        "8af19210f1d34382aadb7ca127933783": {
          "model_module": "@jupyter-widgets/controls",
          "model_name": "FloatProgressModel",
          "model_module_version": "1.5.0",
          "state": {
            "_view_name": "ProgressView",
            "style": "IPY_MODEL_0eb7059ab68e480db46f8d6233ff3440",
            "_dom_classes": [],
            "description": "",
            "_model_name": "FloatProgressModel",
            "bar_style": "success",
            "max": 5001,
            "_view_module": "@jupyter-widgets/controls",
            "_model_module_version": "1.5.0",
            "value": 5001,
            "_view_count": null,
            "_view_module_version": "1.5.0",
            "orientation": "horizontal",
            "min": 0,
            "description_tooltip": null,
            "_model_module": "@jupyter-widgets/controls",
            "layout": "IPY_MODEL_1bcea5d9c3b049cfa8c9ec893faa1ca1"
          }
        },
        "55adf2046fe54bffba59e9ed4174cad0": {
          "model_module": "@jupyter-widgets/controls",
          "model_name": "HTMLModel",
          "model_module_version": "1.5.0",
          "state": {
            "_view_name": "HTMLView",
            "style": "IPY_MODEL_e34abdb6146145459a6e9f1acce3055d",
            "_dom_classes": [],
            "description": "",
            "_model_name": "HTMLModel",
            "placeholder": "​",
            "_view_module": "@jupyter-widgets/controls",
            "_model_module_version": "1.5.0",
            "value": " 5001/5001 [00:00&lt;00:00, 10061.20it/s]",
            "_view_count": null,
            "_view_module_version": "1.5.0",
            "description_tooltip": null,
            "_model_module": "@jupyter-widgets/controls",
            "layout": "IPY_MODEL_20fcc3630f294eaca1f50884e42414e8"
          }
        },
        "be458bc634eb4d1a986117c3e1758123": {
          "model_module": "@jupyter-widgets/controls",
          "model_name": "DescriptionStyleModel",
          "model_module_version": "1.5.0",
          "state": {
            "_view_name": "StyleView",
            "_model_name": "DescriptionStyleModel",
            "description_width": "",
            "_view_module": "@jupyter-widgets/base",
            "_model_module_version": "1.5.0",
            "_view_count": null,
            "_view_module_version": "1.2.0",
            "_model_module": "@jupyter-widgets/controls"
          }
        },
        "574eaea208dd4b2ca2efe27a55e1a3a9": {
          "model_module": "@jupyter-widgets/base",
          "model_name": "LayoutModel",
          "model_module_version": "1.2.0",
          "state": {
            "_view_name": "LayoutView",
            "grid_template_rows": null,
            "right": null,
            "justify_content": null,
            "_view_module": "@jupyter-widgets/base",
            "overflow": null,
            "_model_module_version": "1.2.0",
            "_view_count": null,
            "flex_flow": null,
            "width": null,
            "min_width": null,
            "border": null,
            "align_items": null,
            "bottom": null,
            "_model_module": "@jupyter-widgets/base",
            "top": null,
            "grid_column": null,
            "overflow_y": null,
            "overflow_x": null,
            "grid_auto_flow": null,
            "grid_area": null,
            "grid_template_columns": null,
            "flex": null,
            "_model_name": "LayoutModel",
            "justify_items": null,
            "grid_row": null,
            "max_height": null,
            "align_content": null,
            "visibility": null,
            "align_self": null,
            "height": null,
            "min_height": null,
            "padding": null,
            "grid_auto_rows": null,
            "grid_gap": null,
            "max_width": null,
            "order": null,
            "_view_module_version": "1.2.0",
            "grid_template_areas": null,
            "object_position": null,
            "object_fit": null,
            "grid_auto_columns": null,
            "margin": null,
            "display": null,
            "left": null
          }
        },
        "0eb7059ab68e480db46f8d6233ff3440": {
          "model_module": "@jupyter-widgets/controls",
          "model_name": "ProgressStyleModel",
          "model_module_version": "1.5.0",
          "state": {
            "_view_name": "StyleView",
            "_model_name": "ProgressStyleModel",
            "description_width": "",
            "_view_module": "@jupyter-widgets/base",
            "_model_module_version": "1.5.0",
            "_view_count": null,
            "_view_module_version": "1.2.0",
            "bar_color": null,
            "_model_module": "@jupyter-widgets/controls"
          }
        },
        "1bcea5d9c3b049cfa8c9ec893faa1ca1": {
          "model_module": "@jupyter-widgets/base",
          "model_name": "LayoutModel",
          "model_module_version": "1.2.0",
          "state": {
            "_view_name": "LayoutView",
            "grid_template_rows": null,
            "right": null,
            "justify_content": null,
            "_view_module": "@jupyter-widgets/base",
            "overflow": null,
            "_model_module_version": "1.2.0",
            "_view_count": null,
            "flex_flow": null,
            "width": null,
            "min_width": null,
            "border": null,
            "align_items": null,
            "bottom": null,
            "_model_module": "@jupyter-widgets/base",
            "top": null,
            "grid_column": null,
            "overflow_y": null,
            "overflow_x": null,
            "grid_auto_flow": null,
            "grid_area": null,
            "grid_template_columns": null,
            "flex": null,
            "_model_name": "LayoutModel",
            "justify_items": null,
            "grid_row": null,
            "max_height": null,
            "align_content": null,
            "visibility": null,
            "align_self": null,
            "height": null,
            "min_height": null,
            "padding": null,
            "grid_auto_rows": null,
            "grid_gap": null,
            "max_width": null,
            "order": null,
            "_view_module_version": "1.2.0",
            "grid_template_areas": null,
            "object_position": null,
            "object_fit": null,
            "grid_auto_columns": null,
            "margin": null,
            "display": null,
            "left": null
          }
        },
        "e34abdb6146145459a6e9f1acce3055d": {
          "model_module": "@jupyter-widgets/controls",
          "model_name": "DescriptionStyleModel",
          "model_module_version": "1.5.0",
          "state": {
            "_view_name": "StyleView",
            "_model_name": "DescriptionStyleModel",
            "description_width": "",
            "_view_module": "@jupyter-widgets/base",
            "_model_module_version": "1.5.0",
            "_view_count": null,
            "_view_module_version": "1.2.0",
            "_model_module": "@jupyter-widgets/controls"
          }
        },
        "20fcc3630f294eaca1f50884e42414e8": {
          "model_module": "@jupyter-widgets/base",
          "model_name": "LayoutModel",
          "model_module_version": "1.2.0",
          "state": {
            "_view_name": "LayoutView",
            "grid_template_rows": null,
            "right": null,
            "justify_content": null,
            "_view_module": "@jupyter-widgets/base",
            "overflow": null,
            "_model_module_version": "1.2.0",
            "_view_count": null,
            "flex_flow": null,
            "width": null,
            "min_width": null,
            "border": null,
            "align_items": null,
            "bottom": null,
            "_model_module": "@jupyter-widgets/base",
            "top": null,
            "grid_column": null,
            "overflow_y": null,
            "overflow_x": null,
            "grid_auto_flow": null,
            "grid_area": null,
            "grid_template_columns": null,
            "flex": null,
            "_model_name": "LayoutModel",
            "justify_items": null,
            "grid_row": null,
            "max_height": null,
            "align_content": null,
            "visibility": null,
            "align_self": null,
            "height": null,
            "min_height": null,
            "padding": null,
            "grid_auto_rows": null,
            "grid_gap": null,
            "max_width": null,
            "order": null,
            "_view_module_version": "1.2.0",
            "grid_template_areas": null,
            "object_position": null,
            "object_fit": null,
            "grid_auto_columns": null,
            "margin": null,
            "display": null,
            "left": null
          }
        }
      }
    }
  },
  "cells": [
    {
      "cell_type": "markdown",
      "metadata": {
        "id": "nMBdGcvjC4Ji"
      },
      "source": [
        "# Вебинар 6. Двухуровневые модели рекомендаций\n"
      ]
    },
    {
      "cell_type": "markdown",
      "metadata": {
        "id": "3Jgaacz0C4Jl"
      },
      "source": [
        "Код для src, utils, metrics вы можете скачать из [этого](https://github.com/geangohn/recsys-tutorial) github репозитория"
      ]
    },
    {
      "cell_type": "code",
      "metadata": {
        "colab": {
          "base_uri": "https://localhost:8080/"
        },
        "id": "0wIxUIpQmQK8",
        "outputId": "45231737-135f-45e0-81ba-b456786d4da7"
      },
      "source": [
        "from google.colab import drive\n",
        "drive.mount('/content/drive')"
      ],
      "execution_count": 16,
      "outputs": [
        {
          "output_type": "stream",
          "name": "stdout",
          "text": [
            "Drive already mounted at /content/drive; to attempt to forcibly remount, call drive.mount(\"/content/drive\", force_remount=True).\n"
          ]
        }
      ]
    },
    {
      "cell_type": "code",
      "metadata": {
        "colab": {
          "base_uri": "https://localhost:8080/"
        },
        "id": "Xl9etwI2nu-p",
        "outputId": "73af54bf-0a4a-451a-a51d-a4628a5c6582"
      },
      "source": [
        "!pip install implicit"
      ],
      "execution_count": 2,
      "outputs": [
        {
          "output_type": "stream",
          "name": "stdout",
          "text": [
            "Collecting implicit\n",
            "  Downloading implicit-0.4.8.tar.gz (1.1 MB)\n",
            "\u001b[?25l\r\u001b[K     |▎                               | 10 kB 23.3 MB/s eta 0:00:01\r\u001b[K     |▋                               | 20 kB 9.0 MB/s eta 0:00:01\r\u001b[K     |▉                               | 30 kB 11.7 MB/s eta 0:00:01\r\u001b[K     |█▏                              | 40 kB 13.4 MB/s eta 0:00:01\r\u001b[K     |█▍                              | 51 kB 9.3 MB/s eta 0:00:01\r\u001b[K     |█▊                              | 61 kB 10.7 MB/s eta 0:00:01\r\u001b[K     |██                              | 71 kB 6.6 MB/s eta 0:00:01\r\u001b[K     |██▎                             | 81 kB 7.3 MB/s eta 0:00:01\r\u001b[K     |██▋                             | 92 kB 8.1 MB/s eta 0:00:01\r\u001b[K     |██▉                             | 102 kB 8.4 MB/s eta 0:00:01\r\u001b[K     |███▏                            | 112 kB 8.4 MB/s eta 0:00:01\r\u001b[K     |███▍                            | 122 kB 8.4 MB/s eta 0:00:01\r\u001b[K     |███▊                            | 133 kB 8.4 MB/s eta 0:00:01\r\u001b[K     |████                            | 143 kB 8.4 MB/s eta 0:00:01\r\u001b[K     |████▎                           | 153 kB 8.4 MB/s eta 0:00:01\r\u001b[K     |████▋                           | 163 kB 8.4 MB/s eta 0:00:01\r\u001b[K     |████▉                           | 174 kB 8.4 MB/s eta 0:00:01\r\u001b[K     |█████▏                          | 184 kB 8.4 MB/s eta 0:00:01\r\u001b[K     |█████▍                          | 194 kB 8.4 MB/s eta 0:00:01\r\u001b[K     |█████▊                          | 204 kB 8.4 MB/s eta 0:00:01\r\u001b[K     |██████                          | 215 kB 8.4 MB/s eta 0:00:01\r\u001b[K     |██████▎                         | 225 kB 8.4 MB/s eta 0:00:01\r\u001b[K     |██████▋                         | 235 kB 8.4 MB/s eta 0:00:01\r\u001b[K     |██████▉                         | 245 kB 8.4 MB/s eta 0:00:01\r\u001b[K     |███████▏                        | 256 kB 8.4 MB/s eta 0:00:01\r\u001b[K     |███████▌                        | 266 kB 8.4 MB/s eta 0:00:01\r\u001b[K     |███████▊                        | 276 kB 8.4 MB/s eta 0:00:01\r\u001b[K     |████████                        | 286 kB 8.4 MB/s eta 0:00:01\r\u001b[K     |████████▎                       | 296 kB 8.4 MB/s eta 0:00:01\r\u001b[K     |████████▋                       | 307 kB 8.4 MB/s eta 0:00:01\r\u001b[K     |████████▉                       | 317 kB 8.4 MB/s eta 0:00:01\r\u001b[K     |█████████▏                      | 327 kB 8.4 MB/s eta 0:00:01\r\u001b[K     |█████████▌                      | 337 kB 8.4 MB/s eta 0:00:01\r\u001b[K     |█████████▊                      | 348 kB 8.4 MB/s eta 0:00:01\r\u001b[K     |██████████                      | 358 kB 8.4 MB/s eta 0:00:01\r\u001b[K     |██████████▎                     | 368 kB 8.4 MB/s eta 0:00:01\r\u001b[K     |██████████▋                     | 378 kB 8.4 MB/s eta 0:00:01\r\u001b[K     |██████████▉                     | 389 kB 8.4 MB/s eta 0:00:01\r\u001b[K     |███████████▏                    | 399 kB 8.4 MB/s eta 0:00:01\r\u001b[K     |███████████▌                    | 409 kB 8.4 MB/s eta 0:00:01\r\u001b[K     |███████████▊                    | 419 kB 8.4 MB/s eta 0:00:01\r\u001b[K     |████████████                    | 430 kB 8.4 MB/s eta 0:00:01\r\u001b[K     |████████████▎                   | 440 kB 8.4 MB/s eta 0:00:01\r\u001b[K     |████████████▋                   | 450 kB 8.4 MB/s eta 0:00:01\r\u001b[K     |█████████████                   | 460 kB 8.4 MB/s eta 0:00:01\r\u001b[K     |█████████████▏                  | 471 kB 8.4 MB/s eta 0:00:01\r\u001b[K     |█████████████▌                  | 481 kB 8.4 MB/s eta 0:00:01\r\u001b[K     |█████████████▊                  | 491 kB 8.4 MB/s eta 0:00:01\r\u001b[K     |██████████████                  | 501 kB 8.4 MB/s eta 0:00:01\r\u001b[K     |██████████████▎                 | 512 kB 8.4 MB/s eta 0:00:01\r\u001b[K     |██████████████▋                 | 522 kB 8.4 MB/s eta 0:00:01\r\u001b[K     |███████████████                 | 532 kB 8.4 MB/s eta 0:00:01\r\u001b[K     |███████████████▏                | 542 kB 8.4 MB/s eta 0:00:01\r\u001b[K     |███████████████▌                | 552 kB 8.4 MB/s eta 0:00:01\r\u001b[K     |███████████████▊                | 563 kB 8.4 MB/s eta 0:00:01\r\u001b[K     |████████████████                | 573 kB 8.4 MB/s eta 0:00:01\r\u001b[K     |████████████████▎               | 583 kB 8.4 MB/s eta 0:00:01\r\u001b[K     |████████████████▋               | 593 kB 8.4 MB/s eta 0:00:01\r\u001b[K     |█████████████████               | 604 kB 8.4 MB/s eta 0:00:01\r\u001b[K     |█████████████████▏              | 614 kB 8.4 MB/s eta 0:00:01\r\u001b[K     |█████████████████▌              | 624 kB 8.4 MB/s eta 0:00:01\r\u001b[K     |█████████████████▊              | 634 kB 8.4 MB/s eta 0:00:01\r\u001b[K     |██████████████████              | 645 kB 8.4 MB/s eta 0:00:01\r\u001b[K     |██████████████████▍             | 655 kB 8.4 MB/s eta 0:00:01\r\u001b[K     |██████████████████▋             | 665 kB 8.4 MB/s eta 0:00:01\r\u001b[K     |███████████████████             | 675 kB 8.4 MB/s eta 0:00:01\r\u001b[K     |███████████████████▏            | 686 kB 8.4 MB/s eta 0:00:01\r\u001b[K     |███████████████████▌            | 696 kB 8.4 MB/s eta 0:00:01\r\u001b[K     |███████████████████▊            | 706 kB 8.4 MB/s eta 0:00:01\r\u001b[K     |████████████████████            | 716 kB 8.4 MB/s eta 0:00:01\r\u001b[K     |████████████████████▍           | 727 kB 8.4 MB/s eta 0:00:01\r\u001b[K     |████████████████████▋           | 737 kB 8.4 MB/s eta 0:00:01\r\u001b[K     |█████████████████████           | 747 kB 8.4 MB/s eta 0:00:01\r\u001b[K     |█████████████████████▏          | 757 kB 8.4 MB/s eta 0:00:01\r\u001b[K     |█████████████████████▌          | 768 kB 8.4 MB/s eta 0:00:01\r\u001b[K     |█████████████████████▊          | 778 kB 8.4 MB/s eta 0:00:01\r\u001b[K     |██████████████████████          | 788 kB 8.4 MB/s eta 0:00:01\r\u001b[K     |██████████████████████▍         | 798 kB 8.4 MB/s eta 0:00:01\r\u001b[K     |██████████████████████▋         | 808 kB 8.4 MB/s eta 0:00:01\r\u001b[K     |███████████████████████         | 819 kB 8.4 MB/s eta 0:00:01\r\u001b[K     |███████████████████████▏        | 829 kB 8.4 MB/s eta 0:00:01\r\u001b[K     |███████████████████████▌        | 839 kB 8.4 MB/s eta 0:00:01\r\u001b[K     |███████████████████████▉        | 849 kB 8.4 MB/s eta 0:00:01\r\u001b[K     |████████████████████████        | 860 kB 8.4 MB/s eta 0:00:01\r\u001b[K     |████████████████████████▍       | 870 kB 8.4 MB/s eta 0:00:01\r\u001b[K     |████████████████████████▋       | 880 kB 8.4 MB/s eta 0:00:01\r\u001b[K     |█████████████████████████       | 890 kB 8.4 MB/s eta 0:00:01\r\u001b[K     |█████████████████████████▏      | 901 kB 8.4 MB/s eta 0:00:01\r\u001b[K     |█████████████████████████▌      | 911 kB 8.4 MB/s eta 0:00:01\r\u001b[K     |█████████████████████████▉      | 921 kB 8.4 MB/s eta 0:00:01\r\u001b[K     |██████████████████████████      | 931 kB 8.4 MB/s eta 0:00:01\r\u001b[K     |██████████████████████████▍     | 942 kB 8.4 MB/s eta 0:00:01\r\u001b[K     |██████████████████████████▋     | 952 kB 8.4 MB/s eta 0:00:01\r\u001b[K     |███████████████████████████     | 962 kB 8.4 MB/s eta 0:00:01\r\u001b[K     |███████████████████████████▏    | 972 kB 8.4 MB/s eta 0:00:01\r\u001b[K     |███████████████████████████▌    | 983 kB 8.4 MB/s eta 0:00:01\r\u001b[K     |███████████████████████████▉    | 993 kB 8.4 MB/s eta 0:00:01\r\u001b[K     |████████████████████████████    | 1.0 MB 8.4 MB/s eta 0:00:01\r\u001b[K     |████████████████████████████▍   | 1.0 MB 8.4 MB/s eta 0:00:01\r\u001b[K     |████████████████████████████▋   | 1.0 MB 8.4 MB/s eta 0:00:01\r\u001b[K     |█████████████████████████████   | 1.0 MB 8.4 MB/s eta 0:00:01\r\u001b[K     |█████████████████████████████▎  | 1.0 MB 8.4 MB/s eta 0:00:01\r\u001b[K     |█████████████████████████████▌  | 1.1 MB 8.4 MB/s eta 0:00:01\r\u001b[K     |█████████████████████████████▉  | 1.1 MB 8.4 MB/s eta 0:00:01\r\u001b[K     |██████████████████████████████  | 1.1 MB 8.4 MB/s eta 0:00:01\r\u001b[K     |██████████████████████████████▍ | 1.1 MB 8.4 MB/s eta 0:00:01\r\u001b[K     |██████████████████████████████▋ | 1.1 MB 8.4 MB/s eta 0:00:01\r\u001b[K     |███████████████████████████████ | 1.1 MB 8.4 MB/s eta 0:00:01\r\u001b[K     |███████████████████████████████▎| 1.1 MB 8.4 MB/s eta 0:00:01\r\u001b[K     |███████████████████████████████▌| 1.1 MB 8.4 MB/s eta 0:00:01\r\u001b[K     |███████████████████████████████▉| 1.1 MB 8.4 MB/s eta 0:00:01\r\u001b[K     |████████████████████████████████| 1.1 MB 8.4 MB/s \n",
            "\u001b[?25h  Installing build dependencies ... \u001b[?25l\u001b[?25hdone\n",
            "  Getting requirements to build wheel ... \u001b[?25l\u001b[?25hdone\n",
            "  Installing backend dependencies ... \u001b[?25l\u001b[?25hdone\n",
            "    Preparing wheel metadata ... \u001b[?25l\u001b[?25hdone\n",
            "Requirement already satisfied: tqdm>=4.27 in /usr/local/lib/python3.7/dist-packages (from implicit) (4.62.3)\n",
            "Requirement already satisfied: scipy>=0.16 in /usr/local/lib/python3.7/dist-packages (from implicit) (1.4.1)\n",
            "Requirement already satisfied: numpy in /usr/local/lib/python3.7/dist-packages (from implicit) (1.19.5)\n",
            "Building wheels for collected packages: implicit\n",
            "  Building wheel for implicit (PEP 517) ... \u001b[?25l\u001b[?25hdone\n",
            "  Created wheel for implicit: filename=implicit-0.4.8-cp37-cp37m-linux_x86_64.whl size=4606662 sha256=7a6067e69b4d9247218f5ba8a7aa48e8ed043f31abc0e54f11df0bdb9a53d1b8\n",
            "  Stored in directory: /root/.cache/pip/wheels/88/e6/34/25e73cccbaf1a961154bb562a5f86123b68fdbf40e306073d6\n",
            "Successfully built implicit\n",
            "Installing collected packages: implicit\n",
            "Successfully installed implicit-0.4.8\n"
          ]
        }
      ]
    },
    {
      "cell_type": "code",
      "metadata": {
        "id": "5Aur99NsC4Jm"
      },
      "source": [
        "import pandas as pd\n",
        "import numpy as np\n",
        "import matplotlib.pyplot as plt\n",
        "%matplotlib inline\n",
        "\n",
        "# Для работы с матрицами\n",
        "from scipy.sparse import csr_matrix\n",
        "\n",
        "# Матричная факторизация\n",
        "from implicit import als\n",
        "\n",
        "# Модель второго уровня\n",
        "from lightgbm import LGBMClassifier\n",
        "\n",
        "import os, sys\n",
        "module_path = os.path.abspath(os.path.join(os.pardir))\n",
        "if module_path not in sys.path:\n",
        "    sys.path.append(module_path)\n",
        "\n",
        "# Написанные нами функции\n",
        "from src.metrics import precision_at_k, recall_at_k\n",
        "from src.utils import prefilter_items\n",
        "from src.recommenders import MainRecommender"
      ],
      "execution_count": 17,
      "outputs": []
    },
    {
      "cell_type": "code",
      "metadata": {
        "id": "vso_erSdC4Jo",
        "colab": {
          "base_uri": "https://localhost:8080/",
          "height": 132
        },
        "outputId": "f21b5c3a-ff07-407b-d006-18e766810630"
      },
      "source": [
        "data = pd.read_csv('/content/drive/MyDrive/retail_train.csv')\n",
        "item_features = pd.read_csv('/content/drive/MyDrive/product.csv')\n",
        "user_features = pd.read_csv('/content/drive/MyDrive/hh_demographic.csv')\n",
        "\n",
        "# column processing\n",
        "item_features.columns = [col.lower() for col in item_features.columns]\n",
        "user_features.columns = [col.lower() for col in user_features.columns]\n",
        "\n",
        "item_features.rename(columns={'product_id': 'item_id'}, inplace=True)\n",
        "user_features.rename(columns={'household_key': 'user_id'}, inplace=True)\n",
        "\n",
        "\n",
        "# Важна схема обучения и валидации!\n",
        "# -- давние покупки -- | -- 6 недель -- | -- 3 недель -- \n",
        "# подобрать размер 2-ого датасета (6 недель) --> learning curve (зависимость метрики recall@k от размера датасета)\n",
        "val_lvl_1_size_weeks = 6\n",
        "val_lvl_2_size_weeks = 3\n",
        "\n",
        "data_train_lvl_1 = data[data['week_no'] < data['week_no'].max() - (val_lvl_1_size_weeks + val_lvl_2_size_weeks)]\n",
        "data_val_lvl_1 = data[(data['week_no'] >= data['week_no'].max() - (val_lvl_1_size_weeks + val_lvl_2_size_weeks)) &\n",
        "                      (data['week_no'] < data['week_no'].max() - (val_lvl_2_size_weeks))]\n",
        "\n",
        "data_train_lvl_2 = data_val_lvl_1.copy()  # Для наглядности. Далее мы добавим изменения, и они будут отличаться\n",
        "data_val_lvl_2 = data[data['week_no'] >= data['week_no'].max() - val_lvl_2_size_weeks]\n",
        "\n",
        "data_train_lvl_1.head(2)"
      ],
      "execution_count": 18,
      "outputs": [
        {
          "output_type": "execute_result",
          "data": {
            "text/html": [
              "<div>\n",
              "<style scoped>\n",
              "    .dataframe tbody tr th:only-of-type {\n",
              "        vertical-align: middle;\n",
              "    }\n",
              "\n",
              "    .dataframe tbody tr th {\n",
              "        vertical-align: top;\n",
              "    }\n",
              "\n",
              "    .dataframe thead th {\n",
              "        text-align: right;\n",
              "    }\n",
              "</style>\n",
              "<table border=\"1\" class=\"dataframe\">\n",
              "  <thead>\n",
              "    <tr style=\"text-align: right;\">\n",
              "      <th></th>\n",
              "      <th>user_id</th>\n",
              "      <th>basket_id</th>\n",
              "      <th>day</th>\n",
              "      <th>item_id</th>\n",
              "      <th>quantity</th>\n",
              "      <th>sales_value</th>\n",
              "      <th>store_id</th>\n",
              "      <th>retail_disc</th>\n",
              "      <th>trans_time</th>\n",
              "      <th>week_no</th>\n",
              "      <th>coupon_disc</th>\n",
              "      <th>coupon_match_disc</th>\n",
              "    </tr>\n",
              "  </thead>\n",
              "  <tbody>\n",
              "    <tr>\n",
              "      <th>0</th>\n",
              "      <td>2375</td>\n",
              "      <td>26984851472</td>\n",
              "      <td>1</td>\n",
              "      <td>1004906</td>\n",
              "      <td>1</td>\n",
              "      <td>1.39</td>\n",
              "      <td>364</td>\n",
              "      <td>-0.6</td>\n",
              "      <td>1631</td>\n",
              "      <td>1</td>\n",
              "      <td>0.0</td>\n",
              "      <td>0.0</td>\n",
              "    </tr>\n",
              "    <tr>\n",
              "      <th>1</th>\n",
              "      <td>2375</td>\n",
              "      <td>26984851472</td>\n",
              "      <td>1</td>\n",
              "      <td>1033142</td>\n",
              "      <td>1</td>\n",
              "      <td>0.82</td>\n",
              "      <td>364</td>\n",
              "      <td>0.0</td>\n",
              "      <td>1631</td>\n",
              "      <td>1</td>\n",
              "      <td>0.0</td>\n",
              "      <td>0.0</td>\n",
              "    </tr>\n",
              "  </tbody>\n",
              "</table>\n",
              "</div>"
            ],
            "text/plain": [
              "   user_id    basket_id  day  ...  week_no  coupon_disc  coupon_match_disc\n",
              "0     2375  26984851472    1  ...        1          0.0                0.0\n",
              "1     2375  26984851472    1  ...        1          0.0                0.0\n",
              "\n",
              "[2 rows x 12 columns]"
            ]
          },
          "metadata": {},
          "execution_count": 18
        }
      ]
    },
    {
      "cell_type": "code",
      "metadata": {
        "id": "zcnV3l4XC4Jp",
        "colab": {
          "base_uri": "https://localhost:8080/"
        },
        "outputId": "649afbde-bf5a-45f7-9e6b-ad3bbe2275f8"
      },
      "source": [
        "n_items_before = data_train_lvl_1['item_id'].nunique()\n",
        "\n",
        "data_train_lvl_1 = prefilter_items(data_train_lvl_1, item_features=item_features, take_n_popular=5000)\n",
        "\n",
        "n_items_after = data_train_lvl_1['item_id'].nunique()\n",
        "print('Decreased # items from {} to {}'.format(n_items_before, n_items_after))"
      ],
      "execution_count": 19,
      "outputs": [
        {
          "output_type": "stream",
          "name": "stdout",
          "text": [
            "Decreased # items from 83685 to 5001\n"
          ]
        }
      ]
    },
    {
      "cell_type": "code",
      "metadata": {
        "colab": {
          "base_uri": "https://localhost:8080/",
          "height": 81,
          "referenced_widgets": [
            "ce7dce20a32a4fe9981977d7bf97f37f",
            "a31162ea1bf2426988a6d7349fea6edb",
            "2151586416ff4bec80e6c1b937563425",
            "c4be3cb47c034c5da23f4640f671d16f",
            "22fb2b99c94a47eb85e627eb94065646",
            "cb48de25846a48deaaf09767d743ae08",
            "a4b30d77ffee40018eb4410640a49e57",
            "662b7e7f4ec1485cabeac614f2ec868b",
            "87f1ed79af0f46eab68c909136f4a887",
            "0bf001d26fd84941bdc506698cdc8dce",
            "f0aaed1fd3b74e309891026f9f8b9093",
            "423d7e04c49347ef838df01a1fd20a27",
            "a25f668a9adb4c85a28e46916b7c1912",
            "2bdacffc13464b6489736a631a299081",
            "8af19210f1d34382aadb7ca127933783",
            "55adf2046fe54bffba59e9ed4174cad0",
            "be458bc634eb4d1a986117c3e1758123",
            "574eaea208dd4b2ca2efe27a55e1a3a9",
            "0eb7059ab68e480db46f8d6233ff3440",
            "1bcea5d9c3b049cfa8c9ec893faa1ca1",
            "e34abdb6146145459a6e9f1acce3055d",
            "20fcc3630f294eaca1f50884e42414e8"
          ]
        },
        "id": "zgYXRQ0lC4Jq",
        "outputId": "a66fc771-a66f-4b28-b009-c46fbc65e894"
      },
      "source": [
        "recommender = MainRecommender(data_train_lvl_1)"
      ],
      "execution_count": 20,
      "outputs": [
        {
          "output_type": "display_data",
          "data": {
            "application/vnd.jupyter.widget-view+json": {
              "model_id": "ce7dce20a32a4fe9981977d7bf97f37f",
              "version_minor": 0,
              "version_major": 2
            },
            "text/plain": [
              "  0%|          | 0/15 [00:00<?, ?it/s]"
            ]
          },
          "metadata": {}
        },
        {
          "output_type": "display_data",
          "data": {
            "application/vnd.jupyter.widget-view+json": {
              "model_id": "423d7e04c49347ef838df01a1fd20a27",
              "version_minor": 0,
              "version_major": 2
            },
            "text/plain": [
              "  0%|          | 0/5001 [00:00<?, ?it/s]"
            ]
          },
          "metadata": {}
        }
      ]
    },
    {
      "cell_type": "code",
      "metadata": {
        "id": "xB9JX5swC4Jr",
        "colab": {
          "base_uri": "https://localhost:8080/"
        },
        "outputId": "cdfa286d-ef1e-485f-9676-e54f2273c75a"
      },
      "source": [
        "recommender.get_als_recommendations(2375, N=5)"
      ],
      "execution_count": 21,
      "outputs": [
        {
          "output_type": "execute_result",
          "data": {
            "text/plain": [
              "[1044078, 899624, 1106523, 844179, 1000753]"
            ]
          },
          "metadata": {},
          "execution_count": 21
        }
      ]
    },
    {
      "cell_type": "code",
      "metadata": {
        "id": "PNVa6jWLC4Jr",
        "colab": {
          "base_uri": "https://localhost:8080/"
        },
        "outputId": "0436d9f0-527d-4ec9-9027-07ffffaecf1c"
      },
      "source": [
        "recommender.get_own_recommendations(2375, N=5)"
      ],
      "execution_count": 22,
      "outputs": [
        {
          "output_type": "execute_result",
          "data": {
            "text/plain": [
              "[948640, 918046, 847962, 907099, 873980]"
            ]
          },
          "metadata": {},
          "execution_count": 22
        }
      ]
    },
    {
      "cell_type": "code",
      "metadata": {
        "id": "0NoB_lSJC4Js",
        "colab": {
          "base_uri": "https://localhost:8080/"
        },
        "outputId": "c19d2eac-c646-420c-d600-57307f87df78"
      },
      "source": [
        "recommender.get_similar_items_recommendation(2375, N=5)"
      ],
      "execution_count": 23,
      "outputs": [
        {
          "output_type": "execute_result",
          "data": {
            "text/plain": [
              "[1046545, 1044078, 937292, 1078652, 15778319]"
            ]
          },
          "metadata": {},
          "execution_count": 23
        }
      ]
    },
    {
      "cell_type": "code",
      "metadata": {
        "id": "GdQO5CWKC4Js",
        "colab": {
          "base_uri": "https://localhost:8080/"
        },
        "outputId": "c88732ea-8b37-4478-e818-ed5b0ddc2b87"
      },
      "source": [
        "recommender.get_similar_users_recommendation(2375, N=5)"
      ],
      "execution_count": 24,
      "outputs": [
        {
          "output_type": "execute_result",
          "data": {
            "text/plain": [
              "[974265, 1118120, 820612, 997025, 9553048]"
            ]
          },
          "metadata": {},
          "execution_count": 24
        }
      ]
    },
    {
      "cell_type": "markdown",
      "metadata": {
        "id": "Bqs9Sw_YC4Jt"
      },
      "source": [
        "### Задание 1\n",
        "\n",
        "A) Попробуйте различные варианты генерации кандидатов. Какие из них дают наибольший recall@k ?\n",
        "- Пока пробуем отобрать 50 кандидатов (k=50)\n",
        "- Качество измеряем на data_val_lvl_1: следующие 6 недель после трейна\n",
        "\n",
        "Дают ли own recommendtions + top-popular лучший recall?  \n",
        "\n",
        "B)* Как зависит recall@k от k? Постройте для одной схемы генерации кандидатов эту зависимость для k = {20, 50, 100, 200, 500}  \n",
        "C)* Исходя из прошлого вопроса, как вы думаете, какое значение k является наиболее разумным?\n"
      ]
    },
    {
      "cell_type": "code",
      "metadata": {
        "id": "frt2RzDWC4Jt",
        "colab": {
          "base_uri": "https://localhost:8080/",
          "height": 112
        },
        "outputId": "b94ba98d-669a-4bb3-ec8e-ae6f2093ffb0"
      },
      "source": [
        "result_lvl_1 = data_val_lvl_1.groupby('user_id')['item_id'].unique().reset_index()\n",
        "result_lvl_1.columns=['user_id', 'actual']\n",
        "result_lvl_1.head(2)"
      ],
      "execution_count": 25,
      "outputs": [
        {
          "output_type": "execute_result",
          "data": {
            "text/html": [
              "<div>\n",
              "<style scoped>\n",
              "    .dataframe tbody tr th:only-of-type {\n",
              "        vertical-align: middle;\n",
              "    }\n",
              "\n",
              "    .dataframe tbody tr th {\n",
              "        vertical-align: top;\n",
              "    }\n",
              "\n",
              "    .dataframe thead th {\n",
              "        text-align: right;\n",
              "    }\n",
              "</style>\n",
              "<table border=\"1\" class=\"dataframe\">\n",
              "  <thead>\n",
              "    <tr style=\"text-align: right;\">\n",
              "      <th></th>\n",
              "      <th>user_id</th>\n",
              "      <th>actual</th>\n",
              "    </tr>\n",
              "  </thead>\n",
              "  <tbody>\n",
              "    <tr>\n",
              "      <th>0</th>\n",
              "      <td>1</td>\n",
              "      <td>[853529, 865456, 867607, 872137, 874905, 87524...</td>\n",
              "    </tr>\n",
              "    <tr>\n",
              "      <th>1</th>\n",
              "      <td>2</td>\n",
              "      <td>[15830248, 838136, 839656, 861272, 866211, 870...</td>\n",
              "    </tr>\n",
              "  </tbody>\n",
              "</table>\n",
              "</div>"
            ],
            "text/plain": [
              "   user_id                                             actual\n",
              "0        1  [853529, 865456, 867607, 872137, 874905, 87524...\n",
              "1        2  [15830248, 838136, 839656, 861272, 866211, 870..."
            ]
          },
          "metadata": {},
          "execution_count": 25
        }
      ]
    },
    {
      "cell_type": "code",
      "metadata": {
        "id": "xM5W4mU4C4Jt"
      },
      "source": [
        "train_users = data_train_lvl_1['user_id'].unique()\n",
        "result_lvl_1 = result_lvl_1[result_lvl_1['user_id'].isin(train_users)]"
      ],
      "execution_count": 26,
      "outputs": []
    },
    {
      "cell_type": "code",
      "metadata": {
        "colab": {
          "base_uri": "https://localhost:8080/"
        },
        "id": "5M5yHFv-1SeN",
        "outputId": "195c29cf-fe75-4aa9-f30d-a5df3e30067b"
      },
      "source": [
        "result_lvl_1['candidates_own'] = result_lvl_1['user_id'].apply(lambda x: recommender.get_own_recommendations(x, N=50))\n",
        "result_lvl_1.apply(lambda row: recall_at_k(row['candidates_own'], row['actual'], 50), axis=1).mean()*100"
      ],
      "execution_count": 49,
      "outputs": [
        {
          "output_type": "execute_result",
          "data": {
            "text/plain": [
              "6.525657038145175"
            ]
          },
          "metadata": {},
          "execution_count": 49
        }
      ]
    },
    {
      "cell_type": "code",
      "metadata": {
        "colab": {
          "base_uri": "https://localhost:8080/"
        },
        "id": "NwiX8DyoRrxk",
        "outputId": "cd00a7cc-65c7-4206-f3fd-ecc12f69bb70"
      },
      "source": [
        "result_lvl_1['candidates_als'] = result_lvl_1['user_id'].apply(lambda x: recommender.get_als_recommendations(x, N=50))\n",
        "result_lvl_1.apply(lambda row: recall_at_k(row['candidates_als'], row['actual'], 50), axis=1).mean()*100"
      ],
      "execution_count": 48,
      "outputs": [
        {
          "output_type": "execute_result",
          "data": {
            "text/plain": [
              "4.804098511277231"
            ]
          },
          "metadata": {},
          "execution_count": 48
        }
      ]
    },
    {
      "cell_type": "code",
      "metadata": {
        "colab": {
          "base_uri": "https://localhost:8080/"
        },
        "id": "ekT9ifOG1U7o",
        "outputId": "8dfb586e-238a-49f4-c79f-1c8cd786f97b"
      },
      "source": [
        "result_lvl_1['candidates_sim_items'] = result_lvl_1['user_id'].apply(lambda x: recommender.get_similar_items_recommendation(x, N=50))\n",
        "result_lvl_1.apply(lambda row: recall_at_k(row['candidates_sim_items'], row['actual'], 50), axis=1).mean()*100"
      ],
      "execution_count": 47,
      "outputs": [
        {
          "output_type": "execute_result",
          "data": {
            "text/plain": [
              "3.2531870596636785"
            ]
          },
          "metadata": {},
          "execution_count": 47
        }
      ]
    },
    {
      "cell_type": "markdown",
      "metadata": {
        "id": "3h9v7F0QaRa4"
      },
      "source": [
        "Own recommendations + top popular дали наилучший результат"
      ]
    },
    {
      "cell_type": "markdown",
      "metadata": {
        "id": "bAHJu3Z5C4Ju"
      },
      "source": [
        "### Задание 2.\n",
        "\n",
        "Обучите модель 2-ого уровня, при этом:\n",
        "    - Добавьте минимум по 2 фичи для юзера, товара и пары юзер-товар\n",
        "    - Измерьте отдельно precision@5 модели 1-ого уровня и двухуровневой модели на data_val_lvl_2\n",
        "    - Вырос ли precision@5 при использовании двухуровневой модели?"
      ]
    },
    {
      "cell_type": "code",
      "metadata": {
        "colab": {
          "base_uri": "https://localhost:8080/",
          "height": 261
        },
        "id": "EJLsbxPBwLYe",
        "outputId": "7c882283-9d9a-4155-80eb-99b83bfa3056"
      },
      "source": [
        "new_item_features = item_features.merge(data, on='item_id', how='left')\n",
        "\n",
        "# Количество продаж продуктов в неделю\n",
        "item_quantity = new_item_features.groupby(['item_id'])['quantity'].count().reset_index()\n",
        "item_quantity.rename(columns={'quantity': 'quantity_of_sales'}, inplace=True)\n",
        "item_quantity['weekly_quantity_of_sales'] = item_quantity['quantity_of_sales'] / new_item_features['week_no'].nunique()\n",
        "\n",
        "# Средняя цена продуктов\n",
        "price = new_item_features.groupby('item_id')['sales_value'].sum() / new_item_features.groupby('item_id')['quantity'].sum()\n",
        "price = price.groupby('item_id').mean().reset_index()\n",
        "price.columns = ['item_id', 'price']\n",
        "price['price'].fillna(0, inplace= True)\n",
        "\n",
        "item_features = item_features.merge(item_quantity, on='item_id')\n",
        "item_features = item_features.merge(price, on='item_id')\n",
        "item_features = item_features[item_features['weekly_quantity_of_sales'] > 0]\n",
        "\n",
        "item_features.head()"
      ],
      "execution_count": 34,
      "outputs": [
        {
          "output_type": "execute_result",
          "data": {
            "text/html": [
              "<div>\n",
              "<style scoped>\n",
              "    .dataframe tbody tr th:only-of-type {\n",
              "        vertical-align: middle;\n",
              "    }\n",
              "\n",
              "    .dataframe tbody tr th {\n",
              "        vertical-align: top;\n",
              "    }\n",
              "\n",
              "    .dataframe thead th {\n",
              "        text-align: right;\n",
              "    }\n",
              "</style>\n",
              "<table border=\"1\" class=\"dataframe\">\n",
              "  <thead>\n",
              "    <tr style=\"text-align: right;\">\n",
              "      <th></th>\n",
              "      <th>item_id</th>\n",
              "      <th>manufacturer</th>\n",
              "      <th>department</th>\n",
              "      <th>brand</th>\n",
              "      <th>commodity_desc</th>\n",
              "      <th>sub_commodity_desc</th>\n",
              "      <th>curr_size_of_product</th>\n",
              "      <th>quantity_of_sales</th>\n",
              "      <th>weekly_quantity_of_sales</th>\n",
              "      <th>price</th>\n",
              "    </tr>\n",
              "  </thead>\n",
              "  <tbody>\n",
              "    <tr>\n",
              "      <th>0</th>\n",
              "      <td>25671</td>\n",
              "      <td>2</td>\n",
              "      <td>GROCERY</td>\n",
              "      <td>National</td>\n",
              "      <td>FRZN ICE</td>\n",
              "      <td>ICE - CRUSHED/CUBED</td>\n",
              "      <td>22 LB</td>\n",
              "      <td>3</td>\n",
              "      <td>0.031579</td>\n",
              "      <td>3.49</td>\n",
              "    </tr>\n",
              "    <tr>\n",
              "      <th>1</th>\n",
              "      <td>26081</td>\n",
              "      <td>2</td>\n",
              "      <td>MISC. TRANS.</td>\n",
              "      <td>National</td>\n",
              "      <td>NO COMMODITY DESCRIPTION</td>\n",
              "      <td>NO SUBCOMMODITY DESCRIPTION</td>\n",
              "      <td></td>\n",
              "      <td>1</td>\n",
              "      <td>0.010526</td>\n",
              "      <td>0.99</td>\n",
              "    </tr>\n",
              "    <tr>\n",
              "      <th>2</th>\n",
              "      <td>26093</td>\n",
              "      <td>69</td>\n",
              "      <td>PASTRY</td>\n",
              "      <td>Private</td>\n",
              "      <td>BREAD</td>\n",
              "      <td>BREAD:ITALIAN/FRENCH</td>\n",
              "      <td></td>\n",
              "      <td>1</td>\n",
              "      <td>0.010526</td>\n",
              "      <td>1.59</td>\n",
              "    </tr>\n",
              "    <tr>\n",
              "      <th>3</th>\n",
              "      <td>26190</td>\n",
              "      <td>69</td>\n",
              "      <td>GROCERY</td>\n",
              "      <td>Private</td>\n",
              "      <td>FRUIT - SHELF STABLE</td>\n",
              "      <td>APPLE SAUCE</td>\n",
              "      <td>50 OZ</td>\n",
              "      <td>1</td>\n",
              "      <td>0.010526</td>\n",
              "      <td>1.54</td>\n",
              "    </tr>\n",
              "    <tr>\n",
              "      <th>4</th>\n",
              "      <td>26355</td>\n",
              "      <td>69</td>\n",
              "      <td>GROCERY</td>\n",
              "      <td>Private</td>\n",
              "      <td>COOKIES/CONES</td>\n",
              "      <td>SPECIALTY COOKIES</td>\n",
              "      <td>14 OZ</td>\n",
              "      <td>1</td>\n",
              "      <td>0.010526</td>\n",
              "      <td>0.99</td>\n",
              "    </tr>\n",
              "  </tbody>\n",
              "</table>\n",
              "</div>"
            ],
            "text/plain": [
              "   item_id  manufacturer  ... weekly_quantity_of_sales price\n",
              "0    25671             2  ...                 0.031579  3.49\n",
              "1    26081             2  ...                 0.010526  0.99\n",
              "2    26093            69  ...                 0.010526  1.59\n",
              "3    26190            69  ...                 0.010526  1.54\n",
              "4    26355            69  ...                 0.010526  0.99\n",
              "\n",
              "[5 rows x 10 columns]"
            ]
          },
          "metadata": {},
          "execution_count": 34
        }
      ]
    },
    {
      "cell_type": "code",
      "metadata": {
        "id": "32rnsSX_wtaT"
      },
      "source": [
        "new_user_features = user_features.merge(data, on='user_id', how='left')\n",
        "\n",
        "# Примердживаем среднюю корзину\n",
        "basket = new_user_features.groupby(['user_id'])['sales_value'].sum().reset_index()\n",
        "basket_quantity = new_user_features.groupby('user_id')['basket_id'].count().reset_index()\n",
        "basket_quantity.rename(columns={'basket_id': 'basket_quantity'}, inplace=True)\n",
        "average_basket = basket.merge(basket_quantity)\n",
        "average_basket['average_basket'] = average_basket.sales_value / average_basket.basket_quantity\n",
        "average_basket['weekly_sum'] = average_basket.sales_value / new_user_features.week_no.nunique()\n",
        "average_basket = average_basket.drop(['sales_value', 'basket_quantity'], axis=1)\n",
        "\n",
        "user_features = user_features.merge(average_basket)"
      ],
      "execution_count": 35,
      "outputs": []
    },
    {
      "cell_type": "code",
      "metadata": {
        "id": "F2Kvbu3FyKUb"
      },
      "source": [
        "def preprocessing(data, data_level_1):\n",
        "    users_lvl_2 = pd.DataFrame(data['user_id'].unique())\n",
        "    users_lvl_2.columns = ['user_id']\n",
        "    train_users = data_level_1['user_id'].unique()\n",
        "    users_lvl_2 = users_lvl_2[users_lvl_2['user_id'].isin(train_users)]\n",
        "    users_lvl_2_ = users_lvl_2.copy()\n",
        "    users_lvl_2['candidates'] = users_lvl_2['user_id'].apply(lambda x: recommender.get_own_recommendations(x, N=50))\n",
        "    s = users_lvl_2.apply(lambda x: pd.Series(x['candidates']), axis=1).stack().reset_index(level=1, drop=True)\n",
        "    s.name = 'item_id'\n",
        "    users_lvl_2 = users_lvl_2.drop('candidates', axis=1).join(s)\n",
        "    users_lvl_2['flag'] = 1\n",
        "    targets_lvl_2 = data[['user_id', 'item_id']].copy()\n",
        "    targets_lvl_2.head(2)\n",
        "    targets_lvl_2['target'] = 1  \n",
        "    targets_lvl_2 = users_lvl_2.merge(targets_lvl_2, on=['user_id', 'item_id'], how='left')\n",
        "    targets_lvl_2['target'].fillna(0, inplace= True)\n",
        "    targets_lvl_2.drop('flag', axis=1, inplace=True)\n",
        "    targets_lvl_2 = targets_lvl_2.merge(item_features, on='item_id', how='left')\n",
        "    targets_lvl_2 = targets_lvl_2.merge(user_features, on='user_id', how='left')\n",
        "    X = targets_lvl_2.drop('target', axis=1)\n",
        "    y = targets_lvl_2[['target']]\n",
        "    \n",
        "    return X, y"
      ],
      "execution_count": 36,
      "outputs": []
    },
    {
      "cell_type": "code",
      "metadata": {
        "id": "nIzeEOvmyrRf"
      },
      "source": [
        "X_train, y_train = preprocessing(data_train_lvl_2, data_train_lvl_1)\n",
        "X_test, y_test = preprocessing(data_val_lvl_2, data_train_lvl_1)"
      ],
      "execution_count": 37,
      "outputs": []
    },
    {
      "cell_type": "code",
      "metadata": {
        "colab": {
          "base_uri": "https://localhost:8080/"
        },
        "id": "uwKikGobyvIs",
        "outputId": "1dc07305-2eb9-47b4-e3af-4e0ae44f36f1"
      },
      "source": [
        "categorial_features = X_train.columns[2:].tolist()\n",
        "categorial_features"
      ],
      "execution_count": 38,
      "outputs": [
        {
          "output_type": "execute_result",
          "data": {
            "text/plain": [
              "['manufacturer',\n",
              " 'department',\n",
              " 'brand',\n",
              " 'commodity_desc',\n",
              " 'sub_commodity_desc',\n",
              " 'curr_size_of_product',\n",
              " 'quantity_of_sales',\n",
              " 'weekly_quantity_of_sales',\n",
              " 'price',\n",
              " 'age_desc',\n",
              " 'marital_status_code',\n",
              " 'income_desc',\n",
              " 'homeowner_desc',\n",
              " 'hh_comp_desc',\n",
              " 'household_size_desc',\n",
              " 'kid_category_desc',\n",
              " 'average_basket',\n",
              " 'weekly_sum']"
            ]
          },
          "metadata": {},
          "execution_count": 38
        }
      ]
    },
    {
      "cell_type": "code",
      "metadata": {
        "id": "dQNBrBvNyymz"
      },
      "source": [
        "X_train[categorial_features] = X_train[categorial_features].astype('category')\n",
        "X_test[categorial_features] = X_test[categorial_features].astype('category')"
      ],
      "execution_count": 39,
      "outputs": []
    },
    {
      "cell_type": "code",
      "metadata": {
        "colab": {
          "base_uri": "https://localhost:8080/"
        },
        "id": "05W-6m8Gy1JP",
        "outputId": "3a116049-f433-4786-fa82-fc6922ce9a11"
      },
      "source": [
        "lgb = LGBMClassifier(objective='binary', max_depth=10, categorical_column=categorial_features)\n",
        "lgb.fit(X_train, y_train)\n",
        "\n",
        "test_preds_proba = lgb.predict_proba(X_test)[:, 1]"
      ],
      "execution_count": 40,
      "outputs": [
        {
          "output_type": "stream",
          "name": "stderr",
          "text": [
            "/usr/local/lib/python3.7/dist-packages/sklearn/preprocessing/_label.py:235: DataConversionWarning: A column-vector y was passed when a 1d array was expected. Please change the shape of y to (n_samples, ), for example using ravel().\n",
            "  y = column_or_1d(y, warn=True)\n",
            "/usr/local/lib/python3.7/dist-packages/sklearn/preprocessing/_label.py:268: DataConversionWarning: A column-vector y was passed when a 1d array was expected. Please change the shape of y to (n_samples, ), for example using ravel().\n",
            "  y = column_or_1d(y, warn=True)\n",
            "/usr/local/lib/python3.7/dist-packages/lightgbm/basic.py:762: UserWarning: categorical_feature in param dict is overridden.\n",
            "  warnings.warn('categorical_feature in param dict is overridden.')\n"
          ]
        }
      ]
    },
    {
      "cell_type": "code",
      "metadata": {
        "colab": {
          "base_uri": "https://localhost:8080/"
        },
        "id": "ia7hFB8Sy6Aq",
        "outputId": "cae7a9e8-ea48-40d1-d43e-a238470778d7"
      },
      "source": [
        "test_preds_proba[:10]"
      ],
      "execution_count": 41,
      "outputs": [
        {
          "output_type": "execute_result",
          "data": {
            "text/plain": [
              "array([0.30624795, 0.30624795, 0.02813706, 0.02813706, 0.01092253,\n",
              "       0.04855959, 0.00665775, 0.00886362, 0.00991212, 0.37144909])"
            ]
          },
          "metadata": {},
          "execution_count": 41
        }
      ]
    },
    {
      "cell_type": "code",
      "metadata": {
        "id": "FtqXMcayzGc7"
      },
      "source": [
        "def get_recomendation(X_test, test_preds_proba, data_val_lvl_2):\n",
        "    X_test['predict_proba'] = test_preds_proba\n",
        "    X_test.sort_values(['user_id', 'predict_proba'], ascending=False, inplace=True)\n",
        "    result = X_test.groupby('user_id').head(5)\n",
        "    recs = result.groupby('user_id')['item_id']\n",
        "    recomendations = []\n",
        "    for user, preds in recs:\n",
        "        recomendations.append({'user_id': user, 'recomendations': preds.tolist()})\n",
        "    recomendations = pd.DataFrame(recomendations)\n",
        "    result_lvl_2 = data_val_lvl_2.groupby('user_id')['item_id'].unique().reset_index()\n",
        "    result_lvl_2.columns=['user_id', 'actual']\n",
        "    result_lvl_2 = result_lvl_2.merge(recomendations)\n",
        "    \n",
        "    return result_lvl_2"
      ],
      "execution_count": 43,
      "outputs": []
    },
    {
      "cell_type": "code",
      "metadata": {
        "id": "ZhE3yKk5y9lt"
      },
      "source": [
        "result_lvl_2 = get_recomendation(X_test, test_preds_proba, data_val_lvl_2)"
      ],
      "execution_count": 44,
      "outputs": []
    },
    {
      "cell_type": "code",
      "metadata": {
        "colab": {
          "base_uri": "https://localhost:8080/"
        },
        "id": "X2lrSkeOy_58",
        "outputId": "95296027-83e2-479c-d0eb-7d9c3000f0cf"
      },
      "source": [
        "result_lvl_2.apply(lambda row: precision_at_k(row['recomendations'], row['actual']), axis=1).mean()*100"
      ],
      "execution_count": 46,
      "outputs": [
        {
          "output_type": "execute_result",
          "data": {
            "text/plain": [
              "14.186274509803804"
            ]
          },
          "metadata": {},
          "execution_count": 46
        }
      ]
    },
    {
      "cell_type": "markdown",
      "metadata": {
        "id": "YQHGvqmF0Y--"
      },
      "source": [
        "Двух уровневая модель работает хуже."
      ]
    },
    {
      "cell_type": "markdown",
      "metadata": {
        "id": "9FLlIq15C4Ju"
      },
      "source": [
        "### Финальный проект\n",
        "\n",
        "Мы уже прошли всю необходимуб теорию для финального проекта. Проект осуществляется на данных из вебинара (данные считаны в начале ДЗ).\n",
        "Рекомендуем вам **начать делать проект сразу после этого домашнего задания**\n",
        "- Целевая метрика - precision@5. Порог для уcпешной сдачи проекта precision@5 > 25%\n",
        "- Будет public тестовый датасет, на котором вы сможете измерять метрику\n",
        "- Также будет private тестовый датасет для измерения финального качества\n",
        "- НЕ обязательно, но крайне желательно использовать 2-ух уровневые рекоммендательные системы в проекте\n",
        "- Вы сдаете код проекта в виде github репозитория и csv файл с рекомендациями "
      ]
    }
  ]
}